{
 "cells": [
  {
   "cell_type": "markdown",
   "id": "65436ff9",
   "metadata": {},
   "source": [
    "## OOP's in Python\n",
    "\n",
    "To map with real world scenarios, we started using objects in code.\n",
    "The main concept of OOPs is to bind the data and the functions that work on that together as a single unit so that no other part of the code can access this data.\n",
    "\n",
    "Object-Oriented Programming allows you to create modular, reusable, and maintainable code by organizing related data and functionality into classes and objects. It promotes code reusability, encapsulation, and abstraction.\n",
    "\n",
    "Python is an object oriented programming language.\n",
    "Almost everything in Python is an object, with its properties and methods.\n",
    "\n",
    "- OOPs Concepts in Python:\n",
    "\n",
    "- Class \n",
    "\n",
    "- Objects\n",
    "\n",
    "- Polymorphism\n",
    "\n",
    "- Encapsulation\n",
    "\n",
    "- Inheritance\n",
    "\n",
    "- Data Abstraction"
   ]
  },
  {
   "cell_type": "markdown",
   "id": "ab0c2d9a",
   "metadata": {},
   "source": [
    "### Class vs. Object:\n",
    "\n",
    "- Class: A class is a blueprint or template that defines the attributes and methods common to all objects of that class.\n",
    "- Object: An object is an instance of a class. It represents a specific individual with its own unique data and behavior.\n",
    "\n",
    "#### Key Points:\n",
    "- Classes are used to encapsulate related data and functionality into a single unit.\n",
    "- Objects are instances of classes and represent specific instances of that unit.\n",
    "- Each object has its own unique data (attributes) and behavior (methods), but it shares the structure defined by the class.\n",
    "- Classes promote code reusability, encapsulation, and abstraction, making code more modular and organized.\n",
    "- In summary, classes and objects are fundamental concepts in Object-Oriented Programming (OOP) that allow you to model real-world entities and create modular, reusable code in Python."
   ]
  },
  {
   "cell_type": "markdown",
   "id": "eda7721c",
   "metadata": {},
   "source": [
    "## Python class:\n",
    "\n",
    "A class is a collection of objects. A class is a blueprint or a template for creating objects. It defines the properties (attributes) and behaviors (methods) that all objects of that class will have. Classes are defined using the class keyword in Python.It is a logical entity that contains some attributes and methods. \n",
    "\n",
    "`Some points on Python class:`  \n",
    "- Classes are created by keyword class.\n",
    "- Attributes are the variables that belong to a class.\n",
    "- Attributes are always public and can be accessed using the dot (.) operator. Eg.: Myclass.Myattribute"
   ]
  },
  {
   "cell_type": "code",
   "execution_count": 1,
   "id": "f0f02ce2",
   "metadata": {},
   "outputs": [],
   "source": [
    "class Person:\n",
    "    def __init__(self, name, age):\n",
    "        self.name = name\n",
    "        self.age = age\n",
    "    \n",
    "    def greet(self):\n",
    "        return f\"Hello, my name is {self.name} and I am {self.age} years old.\"\n"
   ]
  },
  {
   "cell_type": "markdown",
   "id": "21d33cb3",
   "metadata": {},
   "source": [
    "## Objects:\n",
    "\n",
    "An object is an instance of a class. It is created using the class constructor. Each object has its own unique data (attributes) and behavior (methods), but it shares the structure defined by the class."
   ]
  },
  {
   "cell_type": "code",
   "execution_count": 2,
   "id": "6d429325",
   "metadata": {},
   "outputs": [
    {
     "name": "stdout",
     "output_type": "stream",
     "text": [
      "Alice\n",
      "25\n",
      "Hello, my name is Alice and I am 30 years old.\n",
      "Hello, my name is Bob and I am 25 years old.\n"
     ]
    }
   ],
   "source": [
    "# Create objects of the Person class\n",
    "person1 = Person(\"Alice\", 30)\n",
    "person2 = Person(\"Bob\", 25)\n",
    "\n",
    "# Accessing attributes\n",
    "print(person1.name) \n",
    "print(person2.age)   \n",
    "\n",
    "# Calling methods\n",
    "print(person1.greet())  \n",
    "print(person2.greet())  "
   ]
  },
  {
   "cell_type": "markdown",
   "id": "7f085434",
   "metadata": {},
   "source": [
    "### The __init__() function:\n",
    "\n",
    "The __init__() function is a special method in Python classes that is automatically called when a new object of that class is created. It stands for \"initialize\" and is used to initialize the object's attributes. The __init__() method is also known as the constructor method.\n",
    "All classes have a function called __init__(), which is always executed when the object is being initiated.\n",
    "\n",
    "#### The self Parameter\n",
    "The self parameter is a reference to the current instance of the class,It is used to access the attributes and methods of the object within the class. \n",
    "self is not a keyword but a convention used by Python programmers.you can call it whatever you like, but it has to be the first parameter of any function in the class:"
   ]
  },
  {
   "cell_type": "code",
   "execution_count": 3,
   "id": "e5def18b",
   "metadata": {},
   "outputs": [],
   "source": [
    "class ClassName:\n",
    "    def __init__ (self, parameter1, parameter2, parameter3):\n",
    "        self.attribute1 = parameter1\n",
    "        self.attribute2 = parameter2\n",
    "        self.attribute3 = parameter3"
   ]
  },
  {
   "cell_type": "code",
   "execution_count": 4,
   "id": "4e256b8c",
   "metadata": {},
   "outputs": [
    {
     "name": "stdout",
     "output_type": "stream",
     "text": [
      "Alice John\n",
      "45000\n",
      "Hello, my name is Aarushi jain, I am a Data Analyst, my location is Chennai and my salary is 48000.\n",
      "Hello, my name is Shanaya Pandey, I am a ML Engineer, my location is Dehli and my salary is 55000.\n"
     ]
    }
   ],
   "source": [
    "class Person:\n",
    "    def __init__(self, fullname, profession, location, salary):\n",
    "        self.fullname = fullname\n",
    "        self.profession = profession\n",
    "        self.location = location\n",
    "        self.salary = salary\n",
    "        \n",
    "# Method    \n",
    "    def Info(self): \n",
    "        return f\"Hello, my name is {self.fullname}, I am a {self.profession}, my location is {self.location} and my salary is {self.salary}.\"\n",
    "    \n",
    "# Create objects of the Person class\n",
    "p1 = Person(\"Alice John\", \"Python Developer\",\"Pune\", 40000)\n",
    "p2 = Person(\"Micky das\", \"Sql Devloper\",\"Noida\", 45000)\n",
    "p3 = Person(\"Aarushi jain\", \"Data Analyst\",\"Chennai\", 48000)\n",
    "p4 = Person(\"Vivan Chouhan\", \"Data Scientist\",\"Mumbai\", 50000)\n",
    "p5 = Person(\"Shanaya Pandey\", \"ML Engineer\",\"Dehli\", 55000)\n",
    "\n",
    "# Accessing attributes\n",
    "print(p1.fullname) \n",
    "print(p2.salary)  \n",
    "\n",
    "# Calling Method\n",
    "print(p3.Info())\n",
    "print(p5.Info())"
   ]
  },
  {
   "cell_type": "markdown",
   "id": "aa2b0542",
   "metadata": {},
   "source": [
    "### Attributes :\n",
    "Attributes are data associated with a class or object. They represent the state of an object. Attributes are accessed using dot notation (object.attribute).\n",
    "\n",
    "#### Class Attribute:\n",
    "A class attribute is a variable that is shared by all instances (objects) of a class. It is defined within the class but outside of any methods. Class attributes are accessed using the class name or the instance name.\n",
    "\n",
    "#### Object Attribute\n",
    "An object attribute is a variable that is specific to each instance (object) of a class. It is defined within the class's methods, typically within the __init__() method. Object attributes are accessed using the instance name.\n",
    "\n",
    "#### Key Differences:\n",
    "- Class attributes are shared among all instances of a class, while object attributes are specific to each instance.\n",
    "- Class attributes are defined outside of any methods in the class, whereas object attributes are typically defined within methods, such as the __init__() method.\n",
    "- Class attributes are accessed using the class name or the instance name, while object attributes are accessed using the instance name."
   ]
  },
  {
   "cell_type": "code",
   "execution_count": 6,
   "id": "50b14ce3",
   "metadata": {},
   "outputs": [
    {
     "name": "stdout",
     "output_type": "stream",
     "text": [
      "Mater of computer Application\n",
      "MCA_24 Mater of computer Application\n",
      "Vihan Male A\n",
      "MCA_24 Devid Male\n"
     ]
    }
   ],
   "source": [
    "class Student:\n",
    "    # Class Attribute \n",
    "    Course = \"Mater of computer Application\"\n",
    "    Batch = \"MCA_24\"\n",
    "    \n",
    "    def __init__ (self, name, gender, section):\n",
    "        self.name = name\n",
    "        self.gender = gender\n",
    "        self.section = section\n",
    "        \n",
    "# Creating Objects\n",
    "s1 = Student(\"Anaya\",\"Female\",\"B\")\n",
    "s2 = Student(\"Devid\",\"Male\",\"C\")\n",
    "s3 = Student(\"Vihan\",\"Male\",\"A\")\n",
    "\n",
    "# Accessing Class attribute by class \n",
    "print(s2.Course)\n",
    "print(s1.Batch,s2.Course)\n",
    "\n",
    "# Accessing class attribute by object name\n",
    "print(s3.name,s3.gender,s3.section)\n",
    "\n",
    "print(s2.Batch,s2.name,s2.gender)\n",
    "\n",
    "'''Note : If our class Attribute is similar name to Object Attribute then always \n",
    "        Object attribute printed because Object attr have higher priority\n",
    "    obj attr > class attr '''"
   ]
  },
  {
   "cell_type": "markdown",
   "id": "7fba8938",
   "metadata": {},
   "source": [
    "### Methods:  \n",
    "Methods are functions that belongs to Objects :\n",
    "A method is a function defined within a class that takes at least one parameter, conventionally named self, which refers to the current instance of the class. Methods can also take additional parameters as needed."
   ]
  },
  {
   "cell_type": "code",
   "execution_count": 7,
   "id": "e634875e",
   "metadata": {},
   "outputs": [
    {
     "name": "stdout",
     "output_type": "stream",
     "text": [
      "Welcome Students!\n"
     ]
    },
    {
     "data": {
      "text/plain": [
       "'Siya Your score is 99'"
      ]
     },
     "execution_count": 7,
     "metadata": {},
     "output_type": "execute_result"
    }
   ],
   "source": [
    "class Student():\n",
    "    def __init__ (self,name,marks):\n",
    "        self.name = name\n",
    "        self.marks = marks\n",
    "        \n",
    "# Method 1\n",
    "    def welcome(self):               \n",
    "        print(\"Welcome Students!\")\n",
    "#Method 2\n",
    "    def get_marks(self):\n",
    "        return f\"{self.name} Your score is {self.marks}\"\n",
    "\n",
    "#Objects\n",
    "s1 = Student(\"Siya\", 99)\n",
    "s2 = Student(\"Sidharth\", 87)\n",
    "\n",
    "# Calling Method \n",
    "s2.welcome()\n",
    "s1.get_marks()"
   ]
  },
  {
   "cell_type": "markdown",
   "id": "2e0a6a1d",
   "metadata": {},
   "source": [
    "#### Statics Methods:\n",
    "\n",
    "methods that don't use the self parameter(Work at Class Level).\n",
    "\n",
    "@staticmethod          #decorator"
   ]
  },
  {
   "cell_type": "code",
   "execution_count": 11,
   "id": "add7f6c5",
   "metadata": {},
   "outputs": [
    {
     "name": "stdout",
     "output_type": "stream",
     "text": [
      "Welcome Students!\n",
      "Holkar Science College\n"
     ]
    }
   ],
   "source": [
    "class Student():\n",
    "    @staticmethod            # Static Method (decorator)\n",
    "    def college():\n",
    "        print(\"Holkar Science College\")\n",
    "    \n",
    "    def __init__ (self,name,marks):\n",
    "        self.name = name\n",
    "        self.marks = marks\n",
    "        \n",
    "# Method 1\n",
    "    def welcome(self):               \n",
    "        print(\"Welcome Students!\")\n",
    "            \n",
    "s1 = Student(\"Siya\", 99)\n",
    "s2 = Student(\"Aryan\",98)\n",
    "\n",
    "s1.welcome()\n",
    "s2.college()"
   ]
  },
  {
   "cell_type": "markdown",
   "id": "10b4c880",
   "metadata": {},
   "source": [
    " - Four Pillar's of OOP's:\n",
    " - Abstraction \n",
    " - Encapsulation\n",
    " - Inheritance\n",
    " - Polymorphism"
   ]
  },
  {
   "cell_type": "markdown",
   "id": "eb23cef9",
   "metadata": {},
   "source": [
    "- Abstraction:\n",
    "\n",
    "Hidingthe implementation details of a class and only showing the essential features to the users."
   ]
  },
  {
   "cell_type": "code",
   "execution_count": null,
   "id": "7f479908",
   "metadata": {},
   "outputs": [],
   "source": []
  },
  {
   "cell_type": "markdown",
   "id": "c912f33a",
   "metadata": {},
   "source": [
    "- Encapsulation:\n",
    "\n",
    "Wrapping data and functions into a single unit(Object)."
   ]
  }
 ],
 "metadata": {
  "kernelspec": {
   "display_name": "Python 3 (ipykernel)",
   "language": "python",
   "name": "python3"
  },
  "language_info": {
   "codemirror_mode": {
    "name": "ipython",
    "version": 3
   },
   "file_extension": ".py",
   "mimetype": "text/x-python",
   "name": "python",
   "nbconvert_exporter": "python",
   "pygments_lexer": "ipython3",
   "version": "3.9.13"
  }
 },
 "nbformat": 4,
 "nbformat_minor": 5
}
