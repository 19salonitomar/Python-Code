{
 "cells": [
  {
   "cell_type": "markdown",
   "id": "65436ff9",
   "metadata": {},
   "source": [
    "## OOP's in Python\n",
    "\n",
    "To map with real world scenarios, we started using objects in code.\n",
    "The main concept of OOPs is to bind the data and the functions that work on that together as a single unit so that no other part of the code can access this data.\n",
    "\n",
    "Object-Oriented Programming allows you to create modular, reusable, and maintainable code by organizing related data and functionality into classes and objects. It promotes code reusability, encapsulation, and abstraction.\n",
    "\n",
    "Python is an object oriented programming language.\n",
    "Almost everything in Python is an object, with its properties and methods.\n",
    "\n",
    "- OOPs Concepts in Python:\n",
    "\n",
    "~ Class \n",
    "\n",
    "~ Objects\n",
    "\n",
    "~ Polymorphism\n",
    "\n",
    "~ Encapsulation\n",
    "\n",
    "~ Inheritance\n",
    "\n",
    "~ Data Abstraction"
   ]
  },
  {
   "cell_type": "markdown",
   "id": "b3d24dd5",
   "metadata": {},
   "source": [
    "### Class vs. Object:\n",
    "\n",
    "Class: A class is a blueprint or template that defines the attributes and methods common to all objects of that class.\n",
    "Object: An object is an instance of a class. It represents a specific individual with its own unique data and behavior.\n",
    "\n",
    "#### Key Points:\n",
    "Classes are used to encapsulate related data and functionality into a single unit.\n",
    "Objects are instances of classes and represent specific instances of that unit.\n",
    "Each object has its own unique data (attributes) and behavior (methods), but it shares the structure defined by the class.\n",
    "Classes promote code reusability, encapsulation, and abstraction, making code more modular and organized.\n",
    "In summary, classes and objects are fundamental concepts in Object-Oriented Programming (OOP) that allow you to model real-world entities and create modular, reusable code in Python."
   ]
  },
  {
   "cell_type": "markdown",
   "id": "eda7721c",
   "metadata": {},
   "source": [
    "## Python class:\n",
    "\n",
    "A class is a collection of objects. A class is a blueprint or a template for creating objects. It defines the properties (attributes) and behaviors (methods) that all objects of that class will have. Classes are defined using the class keyword in Python.It is a logical entity that contains some attributes and methods. \n",
    "\n",
    "`Some points on Python class:`  \n",
    "- Classes are created by keyword class.\n",
    "- Attributes are the variables that belong to a class.\n",
    "- Attributes are always public and can be accessed using the dot (.) operator. Eg.: Myclass.Myattribute"
   ]
  },
  {
   "cell_type": "code",
   "execution_count": 5,
   "id": "968acabd",
   "metadata": {},
   "outputs": [],
   "source": [
    "class Person:\n",
    "    def __init__(self, name, age):\n",
    "        self.name = name\n",
    "        self.age = age\n",
    "    \n",
    "    def greet(self):\n",
    "        return f\"Hello, my name is {self.name} and I am {self.age} years old.\"\n"
   ]
  },
  {
   "cell_type": "markdown",
   "id": "8e3deb3b",
   "metadata": {},
   "source": [
    "## Objects:\n",
    "\n",
    "An object is an instance of a class. It is created using the class constructor. Each object has its own unique data (attributes) and behavior (methods), but it shares the structure defined by the class."
   ]
  },
  {
   "cell_type": "code",
   "execution_count": 6,
   "id": "b3f8753a",
   "metadata": {},
   "outputs": [
    {
     "name": "stdout",
     "output_type": "stream",
     "text": [
      "Alice\n",
      "25\n",
      "Hello, my name is Alice and I am 30 years old.\n",
      "Hello, my name is Bob and I am 25 years old.\n"
     ]
    }
   ],
   "source": [
    "# Create objects of the Person class\n",
    "person1 = Person(\"Alice\", 30)\n",
    "person2 = Person(\"Bob\", 25)\n",
    "\n",
    "# Accessing attributes\n",
    "print(person1.name)  # Output: Alice\n",
    "print(person2.age)   # Output: 25\n",
    "\n",
    "# Calling methods\n",
    "print(person1.greet())  # Output: Hello, my name is Alice and I am 30 years old.\n",
    "print(person2.greet())  # Output: Hello, my name is Bob and I am 25 years old.\n"
   ]
  },
  {
   "cell_type": "markdown",
   "id": "a90387e4",
   "metadata": {},
   "source": [
    "### The __init__() function:\n",
    "\n",
    "The __init__() function is a special method in Python classes that is automatically called when a new object of that class is created. It stands for \"initialize\" and is used to initialize the object's attributes. The __init__() method is also known as the constructor method.\n",
    "All classes have a function called __init__(), which is always executed when the object is being initiated.\n",
    "\n",
    "#### The self Parameter\n",
    "The self parameter is a reference to the current instance of the class,It is used to access the attributes and methods of the object within the class. \n",
    "self is not a keyword but a convention used by Python programmers.you can call it whatever you like, but it has to be the first parameter of any function in the class:"
   ]
  },
  {
   "cell_type": "code",
   "execution_count": null,
   "id": "ff9f6ef4",
   "metadata": {},
   "outputs": [],
   "source": [
    "class ClassName:\n",
    "    def __init__(self, parameter1, parameter2, ...):\n",
    "        self.attribute1 = parameter1\n",
    "        self.attribute2 = parameter2\n",
    "        ..."
   ]
  },
  {
   "cell_type": "code",
   "execution_count": 9,
   "id": "0e9d1234",
   "metadata": {},
   "outputs": [
    {
     "name": "stdout",
     "output_type": "stream",
     "text": [
      "Alice John\n",
      "45000\n"
     ]
    }
   ],
   "source": [
    "class Person:\n",
    "    def __init__(self, fullname, profession, location, salary):\n",
    "        self.fullname = fullname\n",
    "        self.profession = profession\n",
    "        self.location = location\n",
    "        self.salary = salary\n",
    "    \n",
    "    def Info(self):\n",
    "        return f\"Hello, my name is {self.fullname}, I am {self.profession}, my location is {self.location}and my salary is {self.salary}.\"\n",
    "    \n",
    "# Create objects of the Person class\n",
    "p1 = Person(\"Alice John\", \"Python Developer\",\"Pune\", 40000)\n",
    "p2 = Person(\"Micky das\", \"Sql Devloper\",\"Noida\", 45000)\n",
    "p3 = Person(\"Aarushi jain\", \"Data Analyst\",\"Chennai\", 48000)\n",
    "p4 = Person(\"Vivan Chouhan\", \"Data Scientist\",\"Mumbai\", 50000)\n",
    "p5 = Person(\"Shanaya Pandey\", \"ML Engineer\",\"Dehli\", 55000)\n",
    "\n",
    "# Accessing attributes\n",
    "print(p1.fullname) \n",
    "print(p2.salary)  "
   ]
  },
  {
   "cell_type": "code",
   "execution_count": null,
   "id": "14a40964",
   "metadata": {},
   "outputs": [],
   "source": []
  }
 ],
 "metadata": {
  "kernelspec": {
   "display_name": "Python 3 (ipykernel)",
   "language": "python",
   "name": "python3"
  },
  "language_info": {
   "codemirror_mode": {
    "name": "ipython",
    "version": 3
   },
   "file_extension": ".py",
   "mimetype": "text/x-python",
   "name": "python",
   "nbconvert_exporter": "python",
   "pygments_lexer": "ipython3",
   "version": "3.9.13"
  }
 },
 "nbformat": 4,
 "nbformat_minor": 5
}
