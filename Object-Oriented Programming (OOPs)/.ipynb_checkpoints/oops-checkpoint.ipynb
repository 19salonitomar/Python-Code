{
 "cells": [
  {
   "cell_type": "markdown",
   "id": "65436ff9",
   "metadata": {},
   "source": [
    "## OOP's in Python\n",
    "To map with real world scenarios, we started using objects in code.\n",
    "The main concept of OOPs is to bind the data and the functions that work on that together as a single unit so that no other part of the code can access this data.\n",
    "\n",
    "Python is an object oriented programming language.\n",
    "Almost everything in Python is an object, with its properties and methods.\n",
    "\n",
    "- OOPs Concepts in Python:\n",
    "\n",
    "~ Class \n",
    "\n",
    "~ Objects\n",
    "\n",
    "~ Polymorphism\n",
    "\n",
    "~ Encapsulation\n",
    "\n",
    "~ Inheritance\n",
    "\n",
    "~ Data Abstraction"
   ]
  },
  {
   "cell_type": "markdown",
   "id": "eda7721c",
   "metadata": {},
   "source": [
    "## Python class\n",
    "A class is a collection of objects. A class contains the blueprints or the prototype from which the objects are being created. It is a logical entity that contains some attributes and methods. \n",
    "\n",
    "`Some points on Python class:`  \n",
    "- Classes are created by keyword class.\n",
    "- Attributes are the variables that belong to a class.\n",
    "- Attributes are always public and can be accessed using the dot (.) operator. Eg.: Myclass.Myattribute"
   ]
  }
 ],
 "metadata": {
  "kernelspec": {
   "display_name": "Python 3 (ipykernel)",
   "language": "python",
   "name": "python3"
  },
  "language_info": {
   "codemirror_mode": {
    "name": "ipython",
    "version": 3
   },
   "file_extension": ".py",
   "mimetype": "text/x-python",
   "name": "python",
   "nbconvert_exporter": "python",
   "pygments_lexer": "ipython3",
   "version": "3.9.13"
  }
 },
 "nbformat": 4,
 "nbformat_minor": 5
}
