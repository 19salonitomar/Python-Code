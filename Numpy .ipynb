{
 "cells": [
  {
   "cell_type": "markdown",
   "id": "25012a14",
   "metadata": {},
   "source": [
    "## Numpy : \n",
    "\n",
    "NumPy is a Python library. NumPy is used for working with arrays.\n",
    "NumPy is short for \"Numerical Python\". It is the fundamental package for scientific computing with Python.\n"
   ]
  },
  {
   "cell_type": "markdown",
   "id": "d80e363d",
   "metadata": {},
   "source": [
    "## Numpy Array : \n",
    "\n",
    "Array in Numpy is a table of elements (usually numbers), all of the same type, indexed by a tuple of positive integers. In Numpy, number of dimensions of the array is called rank of the array.A tuple of integers giving the size of the array along each dimension is known as shape of the array. An array class in Numpy is called as ndarray. Elements in Numpy arrays are accessed by using square brackets and can be initialized by using nested Python Lists.\n",
    "\n"
   ]
  },
  {
   "cell_type": "raw",
   "id": "0bebe43f",
   "metadata": {},
   "source": [
    "## Note: The Reason why we are using Array is that Arrays Operation of very very Fast so whenever we convert our whole dataset into Array after doing all the feature engineering and  feature selection then data apply it to machine learning algorithms such that our training usally takes up quickly.."
   ]
  },
  {
   "cell_type": "code",
   "execution_count": 1,
   "id": "ad336e50",
   "metadata": {},
   "outputs": [],
   "source": [
    "## Importing Numpy\n",
    "\n",
    "import numpy as np  "
   ]
  },
  {
   "cell_type": "code",
   "execution_count": 3,
   "id": "5ecb3ab1",
   "metadata": {},
   "outputs": [],
   "source": [
    "my_lst=[[1,2,3,4,5] , [5,4,3,2,1]]\n",
    "# creating array object\n",
    "arr = np.array(my_lst)"
   ]
  },
  {
   "cell_type": "code",
   "execution_count": 4,
   "id": "e1f3532f",
   "metadata": {},
   "outputs": [
    {
     "name": "stdout",
     "output_type": "stream",
     "text": [
      "Array is of type:  <class 'numpy.ndarray'>\n",
      "No. of dimensions:  2\n",
      "Shape of array:  (2, 5)\n",
      "Size of array:  10\n",
      "Array stores elements of type:  int32\n"
     ]
    }
   ],
   "source": [
    "# Printing type of arr object \n",
    "print(\"Array is of type: \", type(arr)) \n",
    "  \n",
    "# Printing array dimensions (axes) \n",
    "print(\"No. of dimensions: \", arr.ndim) \n",
    "  \n",
    "# Printing shape of array \n",
    "print(\"Shape of array: \", arr.shape) \n",
    "  \n",
    "# Printing size (total number of elements) of array \n",
    "print(\"Size of array: \", arr.size) \n",
    "  \n",
    "# Printing type of elements in array \n",
    "print(\"Array stores elements of type: \", arr.dtype) "
   ]
  },
  {
   "cell_type": "code",
   "execution_count": 6,
   "id": "6a0e39d2",
   "metadata": {},
   "outputs": [
    {
     "name": "stdout",
     "output_type": "stream",
     "text": [
      "Array with Rank 2: \n",
      " [[1 2 3]\n",
      " [4 5 6]]\n",
      "\n",
      "Array created using passed tuple:\n",
      " [1 3 2]\n"
     ]
    }
   ],
   "source": [
    "# Creating a rank 2 Array\n",
    "arr = np.array([[1, 2, 3],\n",
    "                [4, 5, 6]])\n",
    "print(\"Array with Rank 2: \\n\", arr)\n",
    " \n",
    "# Creating an array from tuple\n",
    "arr = np.array((1, 3, 2))\n",
    "print(\"\\nArray created using \"\n",
    "      \"passed tuple:\\n\", arr)"
   ]
  },
  {
   "cell_type": "markdown",
   "id": "db6c229a",
   "metadata": {},
   "source": [
    "## Indexing of Array"
   ]
  },
  {
   "cell_type": "code",
   "execution_count": 8,
   "id": "307b49b6",
   "metadata": {},
   "outputs": [
    {
     "name": "stdout",
     "output_type": "stream",
     "text": [
      "[[1 2 3 4 5]\n",
      " [6 7 8 9 0]\n",
      " [5 6 7 4 3]]\n"
     ]
    }
   ],
   "source": [
    "# Initialzing Array\n",
    "\n",
    "arr = np.array([[1,2,3,4,5] ,[6,7,8,9,0] , [5,6,7,4,3]])\n",
    "print(arr)"
   ]
  },
  {
   "cell_type": "code",
   "execution_count": 11,
   "id": "97017b3b",
   "metadata": {},
   "outputs": [
    {
     "data": {
      "text/plain": [
       "array([[1, 2, 3]])"
      ]
     },
     "execution_count": 11,
     "metadata": {},
     "output_type": "execute_result"
    }
   ],
   "source": [
    "# Slicing of Array\n",
    "\n",
    "sliced_arr = arr[:1,:3]\n",
    "sliced_arr"
   ]
  },
  {
   "cell_type": "code",
   "execution_count": 12,
   "id": "8ceab631",
   "metadata": {},
   "outputs": [
    {
     "data": {
      "text/plain": [
       "array([[1, 2, 3],\n",
       "       [6, 7, 8]])"
      ]
     },
     "execution_count": 12,
     "metadata": {},
     "output_type": "execute_result"
    }
   ],
   "source": [
    "arr[0:2,0:3]"
   ]
  },
  {
   "cell_type": "code",
   "execution_count": 8,
   "id": "e80808cb",
   "metadata": {
    "scrolled": true
   },
   "outputs": [
    {
     "name": "stdout",
     "output_type": "stream",
     "text": [
      "[2, 4, 7, 5, 9, 3, 5, 8, 6, 1]\n",
      "[ 5  9 15 11 10]\n",
      "[ 6 20 56 30  9]\n"
     ]
    }
   ],
   "source": [
    "arr2 = [2,4,7,5,9]\n",
    "arr3 = [3,5,8,6,1]\n",
    "\n",
    "arra = np.array(arr2)\n",
    "arrb = np.array(arr3)\n",
    "\n",
    "print(arr2+arr3)\n",
    "print(arra+arrb)\n",
    "print(arra*arrb)"
   ]
  },
  {
   "cell_type": "markdown",
   "id": "9e326832",
   "metadata": {},
   "source": [
    "### numpy.arange(): $ This is an inbuilt NumPy function that returns evenly spaced values within a given interval."
   ]
  },
  {
   "cell_type": "code",
   "execution_count": 2,
   "id": "43feaf8f",
   "metadata": {
    "scrolled": true
   },
   "outputs": [
    {
     "name": "stdout",
     "output_type": "stream",
     "text": [
      "[ 1  3  5  7  9 11 13 15 17 19]\n",
      "[50. 48. 46. 44. 42. 40. 38. 36. 34. 32. 30. 28. 26. 24. 22.]\n"
     ]
    }
   ],
   "source": [
    "# numpy.arange([start, stop, step])\n",
    "import numpy as np\n",
    "arr=np.arange(1, 20, 2)\n",
    "print(arr)\n",
    "\n",
    "arr1=np.arange(50, 20, -2, dtype=np.float32)\n",
    "print(arr1)"
   ]
  },
  {
   "cell_type": "markdown",
   "id": "4ca9169b",
   "metadata": {},
   "source": [
    "###  numpy.linspace(): This function returns evenly spaced numbers over a specified between two limits."
   ]
  },
  {
   "cell_type": "code",
   "execution_count": 27,
   "id": "43e638f7",
   "metadata": {},
   "outputs": [
    {
     "data": {
      "text/plain": [
       "array([ 1.        ,  1.18367347,  1.36734694,  1.55102041,  1.73469388,\n",
       "        1.91836735,  2.10204082,  2.28571429,  2.46938776,  2.65306122,\n",
       "        2.83673469,  3.02040816,  3.20408163,  3.3877551 ,  3.57142857,\n",
       "        3.75510204,  3.93877551,  4.12244898,  4.30612245,  4.48979592,\n",
       "        4.67346939,  4.85714286,  5.04081633,  5.2244898 ,  5.40816327,\n",
       "        5.59183673,  5.7755102 ,  5.95918367,  6.14285714,  6.32653061,\n",
       "        6.51020408,  6.69387755,  6.87755102,  7.06122449,  7.24489796,\n",
       "        7.42857143,  7.6122449 ,  7.79591837,  7.97959184,  8.16326531,\n",
       "        8.34693878,  8.53061224,  8.71428571,  8.89795918,  9.08163265,\n",
       "        9.26530612,  9.44897959,  9.63265306,  9.81632653, 10.        ])"
      ]
     },
     "execution_count": 27,
     "metadata": {},
     "output_type": "execute_result"
    }
   ],
   "source": [
    "np.linspace(2,60,3 ,dtype=np.int32)\n",
    "\n",
    "np.linspace(1,10,50)"
   ]
  },
  {
   "cell_type": "markdown",
   "id": "074389f0",
   "metadata": {},
   "source": [
    "### numpy.empty(): This function create a new array of given shape and type, without initializing value."
   ]
  },
  {
   "cell_type": "code",
   "execution_count": 6,
   "id": "24531df2",
   "metadata": {},
   "outputs": [
    {
     "name": "stdout",
     "output_type": "stream",
     "text": [
      "[[     50      48      84      56      51]\n",
      " [     48      49      49      58      52]\n",
      " [     50      45      50      50      54]\n",
      " [     52      48      58      51      90]\n",
      " [     45      51      50      46 6619243]]\n"
     ]
    },
    {
     "data": {
      "text/plain": [
       "array([[0, 0, 0],\n",
       "       [0, 0, 0],\n",
       "       [0, 0, 0],\n",
       "       [0, 0, 0]])"
      ]
     },
     "execution_count": 6,
     "metadata": {},
     "output_type": "execute_result"
    }
   ],
   "source": [
    "arr2 = np.empty([5,5], dtype = np.int32, order = 'f')\n",
    "print(arr2)\n",
    "\n",
    "np.empty([4, 3],\n",
    "         dtype = np.int32,\n",
    "         order = 'f')"
   ]
  },
  {
   "cell_type": "markdown",
   "id": "627c43ab",
   "metadata": {},
   "source": [
    "### numpy.zeros(): This function is used to get a new array of given shape and type, filled with zeros(0).\n",
    "\n",
    "### numpy.ones(): This function is used to get a new array of given shape and type, filled with ones(1)."
   ]
  },
  {
   "cell_type": "code",
   "execution_count": 12,
   "id": "3d20c866",
   "metadata": {},
   "outputs": [
    {
     "name": "stdout",
     "output_type": "stream",
     "text": [
      "[[0 0 0]\n",
      " [0 0 0]\n",
      " [0 0 0]\n",
      " [0 0 0]]\n",
      "[[1 1 1]\n",
      " [1 1 1]\n",
      " [1 1 1]\n",
      " [1 1 1]]\n"
     ]
    }
   ],
   "source": [
    "arr1 = np.zeros([4, 3],\n",
    "        dtype = np.int32,\n",
    "        order = 'f')\n",
    "\n",
    "arr2 = np.ones([4, 3],\n",
    "        dtype = np.int32,\n",
    "        order = 'f')\n",
    "print(arr1)\n",
    "print(arr2)"
   ]
  },
  {
   "cell_type": "markdown",
   "id": "e46b5843",
   "metadata": {},
   "source": [
    "### Copy and view\n",
    "#### The main difference between copy and view is that the copy is the new array whereas the view is the view of the original array. In other words, it can be said that the copy is physically stored at another location and view has the same memory location as the original array.\n",
    "\n"
   ]
  },
  {
   "cell_type": "code",
   "execution_count": 9,
   "id": "cd0c69e7",
   "metadata": {
    "scrolled": true
   },
   "outputs": [
    {
     "name": "stdout",
     "output_type": "stream",
     "text": [
      "[1 2 3 4 5]\n",
      "[42  2  3  4  5]\n",
      "2007793843536\n",
      "2007816211312\n",
      "[ 1  4  6 19  3  5  8]\n",
      "[ 1  4  6 19  3  5  8]\n"
     ]
    }
   ],
   "source": [
    "# Copy: This is also known as Deep Copy.\n",
    "\n",
    "import numpy as np\n",
    "\n",
    "arr = np.array([1, 2, 3, 4, 5])\n",
    "x = arr.copy()\n",
    "arr[0] = 42\n",
    "\n",
    "print(x)\n",
    "print(arr)\n",
    "\n",
    "# View: This is also known as Shallow Copy.\n",
    "\n",
    "arr4 = np.array ([1,4,6,9,3,5,8])\n",
    "v = arr4.view()\n",
    "print(id(arr4))\n",
    "print(id(v))\n",
    "arr4[3]= 19\n",
    "print(arr4)\n",
    "print(v)\n"
   ]
  },
  {
   "cell_type": "code",
   "execution_count": 19,
   "id": "712871c9",
   "metadata": {},
   "outputs": [
    {
     "name": "stdout",
     "output_type": "stream",
     "text": [
      "[ True False False False False  True  True]\n",
      "[2 4 1]\n",
      "[10 25 35 40 45 20  5]\n",
      "[0.4 1.  1.4 1.6 1.8 0.8 0.2]\n"
     ]
    }
   ],
   "source": [
    "###Some condition very useful for creating exploratory Data Analysis\n",
    "\n",
    "val = 5\n",
    "arr5 =np.array([2,5,7,8,9,4,1])\n",
    "\n",
    "print(arr5<val)\n",
    "\n",
    "## Exact digit which is less than val\n",
    "print(arr5[arr5<5])\n",
    "\n",
    "print(arr5*5)\n",
    "print(arr5/val)"
   ]
  },
  {
   "cell_type": "markdown",
   "id": "6915b166",
   "metadata": {},
   "source": [
    "### numpy.random.rand() Function Syntax\n",
    "The numpy.random.rand() function creates an array of specified shapes fills it with random values uniformly distributed between 0 and 1.It is commonly used for creating random arrays in various applications such as simulations and machine learning. \n",
    "\n",
    "Syntax : numpy.random.rand(d0, d1, …, dn)"
   ]
  },
  {
   "cell_type": "code",
   "execution_count": 9,
   "id": "6d6c9b84",
   "metadata": {
    "scrolled": false
   },
   "outputs": [
    {
     "name": "stdout",
     "output_type": "stream",
     "text": [
      "2D Array :\n",
      " [[0.53415792 0.39164211 0.45859427]\n",
      " [0.04185158 0.65218899 0.43401314]\n",
      " [0.06002889 0.37712081 0.33712614]]\n"
     ]
    }
   ],
   "source": [
    "import numpy as np\n",
    "array = np.random.rand(3,3)\n",
    "print (\"2D Array :\\n\", array)"
   ]
  },
  {
   "cell_type": "code",
   "execution_count": 9,
   "id": "8de38c39",
   "metadata": {},
   "outputs": [
    {
     "name": "stdout",
     "output_type": "stream",
     "text": [
      "[[0.37454012 0.95071431 0.73199394]\n",
      " [0.59865848 0.15601864 0.15599452]]\n"
     ]
    }
   ],
   "source": [
    "import numpy as np\n",
    "\n",
    "np.random.seed(42)  # Set the seed for reproducibility\n",
    "random_array = np.random.rand(2, 3)  # Generates the same 2x3 array of random numbers each time you run the code.\n",
    "print(random_array)"
   ]
  },
  {
   "cell_type": "markdown",
   "id": "a7ca52a6",
   "metadata": {},
   "source": [
    "### numpy.random.randn:\n",
    "\n",
    "This function generates random numbers from a standard normal distribution (mean = 0, standard deviation = 1).\n",
    "Syntax: numpy.random.randn(d0, d1, ..., dn)\n",
    "Parameters: d0, d1, ..., dn are the dimensions of the output array. If no argument is provided, a single random value is generated."
   ]
  },
  {
   "cell_type": "code",
   "execution_count": 10,
   "id": "12497d98",
   "metadata": {},
   "outputs": [
    {
     "name": "stdout",
     "output_type": "stream",
     "text": [
      "[[ 1.57921282  0.76743473 -0.46947439  0.54256004 -0.46341769 -0.46572975]\n",
      " [ 0.24196227 -1.91328024 -1.72491783 -0.56228753 -1.01283112  0.31424733]\n",
      " [-0.90802408 -1.4123037   1.46564877 -0.2257763   0.0675282  -1.42474819]\n",
      " [-0.54438272  0.11092259 -1.15099358  0.37569802 -0.60063869 -0.29169375]]\n"
     ]
    }
   ],
   "source": [
    "arr5 = np.random.randn(4,6)\n",
    "print(arr5)"
   ]
  },
  {
   "cell_type": "markdown",
   "id": "4054eceb",
   "metadata": {},
   "source": [
    "# Integers\n",
    "The randint() method takes a size parameter where you can specify the shape of an array."
   ]
  },
  {
   "cell_type": "code",
   "execution_count": 6,
   "id": "63feb299",
   "metadata": {},
   "outputs": [
    {
     "name": "stdout",
     "output_type": "stream",
     "text": [
      "[24 43 70 63 66] \n",
      "\n",
      "[[96 79 11 81 98]\n",
      " [ 7 85 23 80 22]\n",
      " [19 90 78 36  2]]\n"
     ]
    }
   ],
   "source": [
    "from numpy import random\n",
    "\n",
    "x=random.randint(100, size=(5))\n",
    "\n",
    "print(x,'\\n')\n",
    "\n",
    "x = random.randint(100, size=(3, 5))\n",
    "\n",
    "print(x)"
   ]
  },
  {
   "cell_type": "code",
   "execution_count": 12,
   "id": "ddf3aba6",
   "metadata": {},
   "outputs": [
    {
     "name": "stdout",
     "output_type": "stream",
     "text": [
      "7\n",
      "[[8 6 4]\n",
      " [9 7 2]\n",
      " [7 2 5]\n",
      " [4 8 2]]\n"
     ]
    }
   ],
   "source": [
    "## The choice() method takes an array as a parameter and randomly returns one of the values.\n",
    "\n",
    "from numpy import random\n",
    "\n",
    "x = random.choice ([2,6,9,3,5,7])\n",
    "print(x)\n",
    "\n",
    "##Add a size parameter to specify the shape of the array.\n",
    "\n",
    "x= random.choice([1,4,7,9,2,6,8,3,5], size=(4,3))\n",
    "\n",
    "print(x)"
   ]
  },
  {
   "cell_type": "code",
   "execution_count": 14,
   "id": "71e58562",
   "metadata": {},
   "outputs": [
    {
     "name": "stdout",
     "output_type": "stream",
     "text": [
      "(5,)\n"
     ]
    }
   ],
   "source": [
    "arr = np.array([1, 2, 3, 4, 5])\n",
    "\n",
    "print(arr.shape)"
   ]
  }
 ],
 "metadata": {
  "kernelspec": {
   "display_name": "Python 3 (ipykernel)",
   "language": "python",
   "name": "python3"
  },
  "language_info": {
   "codemirror_mode": {
    "name": "ipython",
    "version": 3
   },
   "file_extension": ".py",
   "mimetype": "text/x-python",
   "name": "python",
   "nbconvert_exporter": "python",
   "pygments_lexer": "ipython3",
   "version": "3.9.13"
  }
 },
 "nbformat": 4,
 "nbformat_minor": 5
}
