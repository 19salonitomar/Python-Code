{
 "cells": [
  {
   "cell_type": "code",
   "execution_count": 54,
   "id": "9d3b31b1",
   "metadata": {},
   "outputs": [
    {
     "name": "stdout",
     "output_type": "stream",
     "text": [
      "nitiN"
     ]
    }
   ],
   "source": [
    "#How to reverse string\n",
    "Word = \"Nitin\"\n",
    "res = ''\n",
    "for i in range (len(Word)-1,-1,-1):\n",
    "    print(Word[i], end =\"\")\n",
    "    \n",
    "\n"
   ]
  },
  {
   "cell_type": "code",
   "execution_count": 5,
   "id": "df70d55c",
   "metadata": {},
   "outputs": [
    {
     "name": "stdout",
     "output_type": "stream",
     "text": [
      "abrackdabra\n"
     ]
    }
   ],
   "source": [
    "string = \"abracadabra\"\n",
    "S = list(string)\n",
    "S[5] ='k'\n",
    "string =''.join(S)\n",
    "print(string)"
   ]
  },
  {
   "cell_type": "code",
   "execution_count": 100,
   "id": "3dc43427",
   "metadata": {},
   "outputs": [
    {
     "name": "stdout",
     "output_type": "stream",
     "text": [
      "Enter Number7\n",
      "7 14 21 28 35 42 49 56 63 70 "
     ]
    }
   ],
   "source": [
    "#print table\n",
    "A = int(input('Enter Number'))\n",
    "for i in range (1, 11):\n",
    "    print(A*i,end=\" \")\n"
   ]
  },
  {
   "cell_type": "code",
   "execution_count": 8,
   "id": "58826f07",
   "metadata": {},
   "outputs": [
    {
     "name": "stdout",
     "output_type": "stream",
     "text": [
      "a\n"
     ]
    }
   ],
   "source": [
    "string = \"abracadabra\"\n",
    "print(string[3])"
   ]
  },
  {
   "cell_type": "code",
   "execution_count": 1,
   "id": "09f69dc8",
   "metadata": {},
   "outputs": [
    {
     "name": "stdout",
     "output_type": "stream",
     "text": [
      "palindrome\n"
     ]
    }
   ],
   "source": [
    "#Check Word  is palindrome or not\n",
    "Word = \"DAD\"\n",
    "res = ''\n",
    "for i in range(len(Word)-1,-1,-1):\n",
    "    res = res + Word[i]\n",
    "    \n",
    "if res==Word:\n",
    "    print(\"palindrome\")\n",
    "else:    print('Not Palindrom')\n",
    "   "
   ]
  },
  {
   "cell_type": "code",
   "execution_count": 55,
   "id": "07aeffd5",
   "metadata": {},
   "outputs": [
    {
     "name": "stdout",
     "output_type": "stream",
     "text": [
      "Enter A String:DAD\n",
      "not Palindrome\n"
     ]
    }
   ],
   "source": [
    "X = str(input(\"Enter A String:\"))\n",
    "Y = \" \"\n",
    "for i in range (len(X)-1,-1,-1):\n",
    "    Y = Y + X[i]\n",
    "    \n",
    "if X == Y:\n",
    "    print(\"Palindrome\")\n",
    "else:\n",
    "    print(\"not Palindrome\")\n",
    "    "
   ]
  },
  {
   "cell_type": "code",
   "execution_count": 6,
   "id": "cb5b3f22",
   "metadata": {},
   "outputs": [
    {
     "name": "stdout",
     "output_type": "stream",
     "text": [
      "Enter Number:6\n",
      "Square of a num: 36\n"
     ]
    }
   ],
   "source": [
    "#Square of a Number\n",
    "Num = int(input('Enter Number:'))\n",
    "print('Square of a num:',Num*Num)"
   ]
  },
  {
   "cell_type": "code",
   "execution_count": 101,
   "id": "4f350032",
   "metadata": {},
   "outputs": [
    {
     "name": "stdout",
     "output_type": "stream",
     "text": [
      "120\n"
     ]
    }
   ],
   "source": [
    "#Factorial Of a Num\n",
    "Num = 5\n",
    "res = 1\n",
    "for i in range(Num,0,-1):\n",
    "    res = res*i\n",
    "print(res)"
   ]
  },
  {
   "cell_type": "code",
   "execution_count": 98,
   "id": "724d10ae",
   "metadata": {},
   "outputs": [
    {
     "name": "stdout",
     "output_type": "stream",
     "text": [
      "[120, 24, 6]\n"
     ]
    }
   ],
   "source": [
    "# a = [1,2,3,4,5]\n",
    "a = [5,4,3]\n",
    "b = []\n",
    "\n",
    "for i in a :\n",
    "    fact = 1\n",
    "    for j in range(i,0,-1):\n",
    "        fact = fact*j\n",
    "    b.append(fact)\n",
    "    \n",
    "    \n",
    "print(b)"
   ]
  },
  {
   "cell_type": "code",
   "execution_count": 2,
   "id": "8324b877",
   "metadata": {},
   "outputs": [
    {
     "name": "stdout",
     "output_type": "stream",
     "text": [
      "62482\n",
      "7876\n",
      "11782\n",
      "11477\n",
      "90101\n"
     ]
    }
   ],
   "source": [
    "Arr = [353,125,153,151,424]\n",
    "Pal = []\n",
    "NonPal = []\n",
    "for i in Arr:\n",
    "    res = 1\n",
    "    for j in range(i,0,-1):\n",
    "        res = res + j\n",
    "    print(res)"
   ]
  },
  {
   "cell_type": "code",
   "execution_count": 33,
   "id": "bfaea018",
   "metadata": {},
   "outputs": [
    {
     "name": "stdout",
     "output_type": "stream",
     "text": [
      "-->MY NAME\n",
      "BEautiful Sallu Masi\n"
     ]
    }
   ],
   "source": [
    "cmd  = input(\"-->\").lower()\n",
    "if cmd == 'hello':\n",
    "    print(\"hello mam how are you\")\n",
    "elif cmd == \"what is the time\":\n",
    "    print(\"the time is 4.53\")\n",
    "elif cmd == \"my name\":\n",
    "    print(\"BEautiful Sallu Masi\")"
   ]
  },
  {
   "cell_type": "code",
   "execution_count": 36,
   "id": "0583b2e3",
   "metadata": {
    "scrolled": true
   },
   "outputs": [
    {
     "name": "stdout",
     "output_type": "stream",
     "text": [
      "5 10 15 20 25 30 35 40 45 50 "
     ]
    }
   ],
   "source": [
    "Num = 5\n",
    "count = 1\n",
    "while count <= 10:\n",
    "    print(Num * count,end=' ')\n",
    "    count+=1"
   ]
  },
  {
   "cell_type": "code",
   "execution_count": 9,
   "id": "92903e43",
   "metadata": {},
   "outputs": [
    {
     "name": "stdout",
     "output_type": "stream",
     "text": [
      "Menu:\n",
      "1)Burger\n",
      "2)Coffee\n",
      "3)Pizza\n",
      "4)Noodles\n",
      "5)Exit\n",
      "What do you want to buy -->Burger,pizza,coffee\n"
     ]
    }
   ],
   "source": [
    "print(\"Menu:\\n1)Burger\\n2)Coffee\\n3)Pizza\\n4)Noodles\\n5)Exit\")\n",
    "cmd = input(\"What do you want to buy -->\")\n",
    "Items = {\n",
    "    \"Burger\" : 150,\n",
    "    \"Pizza\" : 250,\n",
    "    \"coffee\" :45,\n",
    "    \"Noodles\" :90\n",
    "}\n",
    "\n",
    "UserReq = ['Burger','Pizza','coffee']\n",
    "Qty = [2,5,3]"
   ]
  },
  {
   "cell_type": "code",
   "execution_count": 1,
   "id": "fa274350",
   "metadata": {},
   "outputs": [
    {
     "data": {
      "text/plain": [
       "1685"
      ]
     },
     "execution_count": 1,
     "metadata": {},
     "output_type": "execute_result"
    }
   ],
   "source": [
    "Items = {\n",
    "    \"Burger\" : 150,\n",
    "    \"Pizza\" : 250,\n",
    "    \"coffee\" :45,\n",
    "    \"Noodles\" :90\n",
    "}\n",
    "UserReq = ['Burger','Pizza','coffee']\n",
    "Qty = [2,5,3]\n",
    "Total = 0\n",
    "for i in range(len(UserReq)):\n",
    "    Price = Items[UserReq[i]]\n",
    "    Total = Total + (Price * Qty[i])\n",
    "    \n",
    "\n",
    "Total"
   ]
  },
  {
   "cell_type": "code",
   "execution_count": 14,
   "id": "b7dbe5c6",
   "metadata": {},
   "outputs": [
    {
     "name": "stdout",
     "output_type": "stream",
     "text": [
      "x\n",
      "y\n",
      "z\n"
     ]
    }
   ],
   "source": [
    "a = ['a','b','c']\n",
    "b = ['x','y','z']\n",
    "\n",
    "for i in range(len(a)):\n",
    "    print(b[i], end ='')"
   ]
  },
  {
   "cell_type": "code",
   "execution_count": 2,
   "id": "cc2f6b0e",
   "metadata": {},
   "outputs": [
    {
     "name": "stdout",
     "output_type": "stream",
     "text": [
      "e ,o ,o ,u ,o ,i ,a ,e ,o ,u ,"
     ]
    }
   ],
   "source": [
    "Str = \"hello , You Know i hate You \"\n",
    "vowel = ['a','e','i','o','u']\n",
    "for i in (Str):\n",
    "    if i in vowel:\n",
    "        print(i,end=' , ')\n",
    "    else:\n",
    "        pass"
   ]
  },
  {
   "cell_type": "code",
   "execution_count": 28,
   "id": "003471eb",
   "metadata": {},
   "outputs": [
    {
     "name": "stdout",
     "output_type": "stream",
     "text": [
      "Enter a str :SIYA\n",
      "i\n",
      "a\n"
     ]
    }
   ],
   "source": [
    "str = input('Enter a str :').lower()\n",
    "count = 0\n",
    "Vowel = ['a','e','i','o','u','A','E','I','O','U']\n",
    "for i in (str):\n",
    "    if i in Vowel:\n",
    "        print(i)\n",
    "    else:\n",
    "        pass"
   ]
  },
  {
   "cell_type": "code",
   "execution_count": 7,
   "id": "dd54da8f",
   "metadata": {},
   "outputs": [
    {
     "name": "stdout",
     "output_type": "stream",
     "text": [
      "120\n"
     ]
    }
   ],
   "source": [
    "Num = 5\n",
    "Fact = 1\n",
    "for i in range(1,Num+1):\n",
    "    Fact*=i\n",
    "print(Fact)"
   ]
  },
  {
   "cell_type": "code",
   "execution_count": 4,
   "id": "40e5eeab",
   "metadata": {},
   "outputs": [
    {
     "name": "stdout",
     "output_type": "stream",
     "text": [
      "125,343,64,27,4,729,"
     ]
    }
   ],
   "source": [
    "# print Cube of Odd number And Square of Even number \n",
    "Num = [5, 7, 8, 3, 2, 9, ]\n",
    "for i in Num:\n",
    "    if (i%2!= 0):\n",
    "        print(i*i*i, end=',')\n",
    "    else: \n",
    "        print(i*i, end=',')"
   ]
  },
  {
   "cell_type": "code",
   "execution_count": 4,
   "id": "074b9d1c",
   "metadata": {},
   "outputs": [
    {
     "name": "stdout",
     "output_type": "stream",
     "text": [
      "* * * * * \n",
      "* * * * * \n",
      "* * * * * \n",
      "* * * * * \n",
      "* * * * * \n"
     ]
    }
   ],
   "source": [
    "N = 5\n",
    "for i in range(N): # rows\n",
    "    for j in range(N): # Column\n",
    "        print('*', end=' ')\n",
    "    print()   "
   ]
  },
  {
   "cell_type": "code",
   "execution_count": 5,
   "id": "5677b87c",
   "metadata": {},
   "outputs": [
    {
     "name": "stdout",
     "output_type": "stream",
     "text": [
      "Enter a Num:6\n",
      "* \n",
      "* * \n",
      "* * * \n",
      "* * * * \n",
      "* * * * * \n",
      "* * * * * * \n",
      "Enter a Num:6\n",
      "* * * * * * \n",
      "* * * * * \n",
      "* * * * \n",
      "* * * \n",
      "* * \n",
      "* \n",
      "Enter a Num:6\n",
      "&\n",
      "&&\n",
      "&&&\n",
      "&&&&\n",
      "&&&&&\n",
      "&&&&&&\n"
     ]
    }
   ],
   "source": [
    "#  Increasing Triangle Pattern:\n",
    "X = int(input('Enter a Num:'))\n",
    "for i in range(X):\n",
    "    for j in range(i+1):\n",
    "        print('*', end = ' ')\n",
    "    print()  \n",
    "    \n",
    "#  Decreasing Triangle Pattern:\n",
    "X = int(input('Enter a Num:'))\n",
    "for i in range(X):\n",
    "    for j in range(i , X):\n",
    "        print('*', end = ' ')\n",
    "    print()  \n",
    "    \n",
    "X = int(input('Enter a Num:'))\n",
    "for i in range(X):\n",
    "    s = ''\n",
    "    for j in range(i + 1) :\n",
    "        s = s + '&'\n",
    "    print(s)"
   ]
  },
  {
   "cell_type": "code",
   "execution_count": 32,
   "id": "5ddb0f17",
   "metadata": {},
   "outputs": [
    {
     "name": "stdout",
     "output_type": "stream",
     "text": [
      "     * \n",
      "    * * \n",
      "   * * * \n",
      "  * * * * \n",
      " * * * * * \n",
      " * * * * * \n",
      "  * * * * \n",
      "   * * * \n",
      "    * * \n",
      "     * \n"
     ]
    }
   ],
   "source": [
    "n = 5\n",
    "for i in range(n):\n",
    "    \n",
    "    for j in range(i,n):\n",
    "        print('', end=' ')\n",
    "        \n",
    "    for j in range(i+1):\n",
    "        print('*', end=' ')\n",
    "    print()\n",
    "    \n",
    "n = 5\n",
    "for i in range(n):\n",
    "    \n",
    "    for j in range(i+1):\n",
    "        print('',end=' ')\n",
    "        \n",
    "    for j in range(i ,n):\n",
    "        print('*', end=' ')\n",
    "        \n",
    "    print()    "
   ]
  },
  {
   "cell_type": "code",
   "execution_count": 33,
   "id": "542f9d63",
   "metadata": {},
   "outputs": [
    {
     "name": "stdout",
     "output_type": "stream",
     "text": [
      "     * \n",
      "    * * * \n",
      "   * * * * * \n",
      "  * * * * * * * \n",
      " * * * * * * * * * \n"
     ]
    }
   ],
   "source": [
    "n = 5\n",
    "for i in range(n):\n",
    "    \n",
    "    for j in range(i,n):\n",
    "        print('', end=' ')\n",
    "        \n",
    "    for j in range(i):\n",
    "        print('*', end=' ')\n",
    "        \n",
    "    for j in range(i+1):\n",
    "        print('*', end=' ')\n",
    "        \n",
    "    print()"
   ]
  },
  {
   "cell_type": "code",
   "execution_count": 67,
   "id": "37e57a3a",
   "metadata": {},
   "outputs": [
    {
     "name": "stdout",
     "output_type": "stream",
     "text": [
      "['I', 'Hate', 'You']\n"
     ]
    }
   ],
   "source": [
    "# Reversed Word\n",
    "name = \"I Hate You\" \n",
    "words = name.split(\" \")\n",
    "Arr =[]\n",
    "Arr = Arr + words\n",
    "print(Arr)      "
   ]
  },
  {
   "cell_type": "code",
   "execution_count": 68,
   "id": "63ee3993",
   "metadata": {},
   "outputs": [
    {
     "name": "stdout",
     "output_type": "stream",
     "text": [
      "wWW.hACHERrANK.cOM\n"
     ]
    }
   ],
   "source": [
    "s = \"Www.HackerRank.Com\"\n",
    "new_case = \"\"\n",
    "for elem in s:\n",
    "    if elem == elem.upper():\n",
    "       new_case += elem.lower() \n",
    "    elif elem == elem.lower():\n",
    "       new_case += elem.upper()\n",
    "    else:\n",
    "       new_case += elem\n",
    "print( new_case)"
   ]
  },
  {
   "cell_type": "code",
   "execution_count": 1,
   "id": "24bef569",
   "metadata": {},
   "outputs": [],
   "source": [
    "### User Input Function "
   ]
  },
  {
   "cell_type": "code",
   "execution_count": 3,
   "id": "0d0238c2",
   "metadata": {},
   "outputs": [
    {
     "name": "stdout",
     "output_type": "stream",
     "text": [
      "Enter a no.:7\n",
      "Enter a no.:8\n",
      "15\n"
     ]
    }
   ],
   "source": [
    "X = int(input(\"Enter a no.:\"))\n",
    "Y = int(input(\"Enter a no.:\"))\n",
    "Z = X + Y\n",
    "print(Z)"
   ]
  },
  {
   "cell_type": "code",
   "execution_count": 6,
   "id": "93a4a6b9",
   "metadata": {},
   "outputs": [
    {
     "name": "stdout",
     "output_type": "stream",
     "text": [
      "Enter a Expr:2*8-8/2+8-2\n",
      "18.0\n"
     ]
    }
   ],
   "source": [
    "### Function Eval\n",
    "\n",
    "X = eval(input(\"Enter a Expr:\"))\n",
    "print (X)"
   ]
  },
  {
   "cell_type": "code",
   "execution_count": 2,
   "id": "5d094b76",
   "metadata": {},
   "outputs": [
    {
     "name": "stdout",
     "output_type": "stream",
     "text": [
      "Enter a no:4\n",
      "cube of a no.: 64\n",
      "3.0\n"
     ]
    }
   ],
   "source": [
    "X = int(input(\"Enter a no:\"))\n",
    "Y = X*X*X\n",
    "print(\"cube of a no.:\",Y)\n",
    "\n",
    "\n",
    "import math\n",
    "print(math.sqrt(9))"
   ]
  },
  {
   "cell_type": "code",
   "execution_count": 5,
   "id": "5b7e12b6",
   "metadata": {},
   "outputs": [
    {
     "name": "stdout",
     "output_type": "stream",
     "text": [
      "#####\n",
      "####\n",
      "###\n",
      "##\n",
      "#\n"
     ]
    }
   ],
   "source": [
    "for i in range (5):\n",
    "    for j in range (5-i):\n",
    "        print(\"#\" , end = \"\")\n",
    "    print()   "
   ]
  },
  {
   "cell_type": "code",
   "execution_count": 6,
   "id": "0c7c849b",
   "metadata": {},
   "outputs": [
    {
     "name": "stdout",
     "output_type": "stream",
     "text": [
      "1234\n",
      "234\n",
      "34\n",
      "4\n",
      "APQR\n",
      "ABQR\n",
      "ABCR\n",
      "ABCD\n"
     ]
    }
   ],
   "source": [
    "for i in range(4):\n",
    "    for j in range(i+1,5):\n",
    "        print(j, end=\"\")\n",
    "    print()\n",
    "    \n",
    "    \n",
    "s1=\"ABCD\"\n",
    "s2=\"PQR\"\n",
    "for i in range(4):\n",
    "    print(s1[0:i+1]+s2[i:])"
   ]
  },
  {
   "cell_type": "code",
   "execution_count": 1,
   "id": "7223997e",
   "metadata": {},
   "outputs": [
    {
     "name": "stdout",
     "output_type": "stream",
     "text": [
      "Prime number\n",
      " Not Prime number\n",
      "Prime number\n",
      "Prime number\n",
      "Prime number\n",
      "Prime number\n",
      "Prime number\n",
      "Prime number\n",
      "Prime number\n",
      " Not Prime number\n",
      "Prime number\n",
      "Prime number\n",
      "Prime number\n",
      "Prime number\n",
      "Prime number\n",
      "Prime number\n",
      "Prime number\n",
      "Prime number\n",
      "Prime number\n",
      "Prime number\n",
      "Prime number\n",
      "Prime number\n",
      "Prime number\n",
      "Prime number\n",
      "Prime number\n",
      "Prime number\n",
      "Prime number\n",
      "Prime number\n",
      "Prime number\n",
      "Prime number\n",
      "Prime number\n"
     ]
    }
   ],
   "source": [
    "num = 33\n",
    "for i in range(2,num):\n",
    "    if num%i== 0:\n",
    "        print(\" Not Prime number\")    \n",
    "    \n",
    "    else:\n",
    "        print(\"Prime number\")"
   ]
  },
  {
   "cell_type": "code",
   "execution_count": 2,
   "id": "34100647",
   "metadata": {},
   "outputs": [
    {
     "name": "stdout",
     "output_type": "stream",
     "text": [
      "tHE vIllaN\n",
      "The ViLLAn\n"
     ]
    }
   ],
   "source": [
    "def swap_case(s):\n",
    "    new_string = ''\n",
    "    for c in s:\n",
    "        if c.isupper():\n",
    "           new_string += c.lower()\n",
    "        else:\n",
    "           new_string += c.upper()\n",
    "    return new_string\n",
    "if __name__ =='__main__':\n",
    "    s = input()\n",
    "    result= swap_case(s)\n",
    "    print(result)"
   ]
  },
  {
   "cell_type": "code",
   "execution_count": 11,
   "id": "0ef8bf2f",
   "metadata": {},
   "outputs": [
    {
     "name": "stdout",
     "output_type": "stream",
     "text": [
      "split and join\n",
      "split-and-join\n"
     ]
    }
   ],
   "source": [
    "def split_and_join(line):\n",
    "    #new_line = \"\"\n",
    "    line = line.split(\" \")\n",
    "    line = \"-\".join(line)\n",
    "    return line\n",
    "    \n",
    "    # write your code here\n",
    "\n",
    "if __name__ == '__main__':\n",
    "    line = input()\n",
    "    result = split_and_join(line)\n",
    "    print(result)"
   ]
  },
  {
   "cell_type": "code",
   "execution_count": null,
   "id": "1a94f1d1",
   "metadata": {},
   "outputs": [],
   "source": []
  }
 ],
 "metadata": {
  "kernelspec": {
   "display_name": "Python 3 (ipykernel)",
   "language": "python",
   "name": "python3"
  },
  "language_info": {
   "codemirror_mode": {
    "name": "ipython",
    "version": 3
   },
   "file_extension": ".py",
   "mimetype": "text/x-python",
   "name": "python",
   "nbconvert_exporter": "python",
   "pygments_lexer": "ipython3",
   "version": "3.9.13"
  }
 },
 "nbformat": 4,
 "nbformat_minor": 5
}
