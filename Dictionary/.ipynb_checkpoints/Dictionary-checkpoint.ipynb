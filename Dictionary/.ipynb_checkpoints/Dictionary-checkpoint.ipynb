{
 "cells": [
  {
   "cell_type": "markdown",
   "id": "9b3ac697",
   "metadata": {},
   "source": [
    "## Defination:\n",
    "A dictionary in Python is a data structure that stores the values in key::value pairs.\n",
    "In Python, a dictionary can be created by placing a sequence of elements within curly {} braces, separated by a ‘comma’.\n",
    "The dictionary holds pairs of values, one being the Key and the other corresponding pair element being its Key:value.\n",
    "Values in a dictionary can be of any data type and can be duplicated, whereas keys can’t be repeated and must be immutable. \n",
    "\n",
    "Note – Dictionary keys are case sensitive, the same name but different cases of Key will be treated distinctly. \n"
   ]
  },
  {
   "cell_type": "code",
   "execution_count": 1,
   "id": "c70094ae",
   "metadata": {
    "vscode": {
     "languageId": "plaintext"
    }
   },
   "outputs": [
    {
     "name": "stdout",
     "output_type": "stream",
     "text": [
      "\n",
      "Dictionary with the use of Integer Keys: \n",
      "{1: 'Python', 2: 'Java', 3: 'JavaScript', 4: 'Html', 5: 'CSS'}\n"
     ]
    }
   ],
   "source": [
    "## Example\n",
    "Dict = {1: 'Python', 2: 'Java', 3: 'JavaScript', 4: 'Html', 5: 'CSS'}\n",
    "print(\"\\nDictionary with the use of Integer Keys: \")\n",
    "print(Dict)"
   ]
  },
  {
   "cell_type": "code",
   "execution_count": null,
   "id": "1dec5552",
   "metadata": {},
   "outputs": [],
   "source": []
  }
 ],
 "metadata": {
  "kernelspec": {
   "display_name": "Python 3 (ipykernel)",
   "language": "python",
   "name": "python3"
  },
  "language_info": {
   "codemirror_mode": {
    "name": "ipython",
    "version": 3
   },
   "file_extension": ".py",
   "mimetype": "text/x-python",
   "name": "python",
   "nbconvert_exporter": "python",
   "pygments_lexer": "ipython3",
   "version": "3.9.13"
  }
 },
 "nbformat": 4,
 "nbformat_minor": 5
}
