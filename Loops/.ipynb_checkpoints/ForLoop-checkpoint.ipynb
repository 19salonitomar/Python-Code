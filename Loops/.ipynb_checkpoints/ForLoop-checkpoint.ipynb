{
 "cells": [
  {
   "cell_type": "code",
   "execution_count": 2,
   "id": "bb2827bc",
   "metadata": {},
   "outputs": [
    {
     "name": "stdout",
     "output_type": "stream",
     "text": [
      "Apple\n",
      "Orange\n",
      "Strawberry\n",
      "Mango\n",
      "Grapes\n"
     ]
    }
   ],
   "source": [
    "## Printing the elements of a list:\n",
    "\n",
    "my_list=[\"Apple\" , \"Orange\", \"Strawberry\", \"Mango\", \"Grapes\"]\n",
    "for fruits in my_list:\n",
    "    print(fruits)"
   ]
  },
  {
   "cell_type": "code",
   "execution_count": 4,
   "id": "74bd270f",
   "metadata": {},
   "outputs": [
    {
     "name": "stdout",
     "output_type": "stream",
     "text": [
      "210\n"
     ]
    }
   ],
   "source": [
    "## Print sum of numbers \n",
    "\n",
    "sum = 0\n",
    "for i in range(0,21):\n",
    "    sum += i\n",
    "print(sum)"
   ]
  },
  {
   "cell_type": "code",
   "execution_count": 16,
   "id": "e1cb2e07",
   "metadata": {},
   "outputs": [
    {
     "name": "stdout",
     "output_type": "stream",
     "text": [
      "Number of vowels: 18\n"
     ]
    }
   ],
   "source": [
    "## Counting the number of vowels in a string:\n",
    "\n",
    "string = \"I Like Python Programming Language And Machine Learning\"\n",
    "vowels = \"aAeEiIoOuU\"\n",
    "count = 0\n",
    "for char in string:\n",
    "    if char in vowels:\n",
    "        count += 1\n",
    "print(\"Number of vowels:\", count)"
   ]
  },
  {
   "cell_type": "code",
   "execution_count": 2,
   "id": "a2419688",
   "metadata": {},
   "outputs": [
    {
     "name": "stdout",
     "output_type": "stream",
     "text": [
      "factorial of a Number: 120\n"
     ]
    }
   ],
   "source": [
    "## Printing Factorial of a Number:\n",
    "\n",
    "num = 5\n",
    "fact = 1\n",
    "for i in range(1,num+1):\n",
    "    fact *= i\n",
    "print(\"factorial of a Number:\", fact)"
   ]
  },
  {
   "cell_type": "code",
   "execution_count": 5,
   "id": "2f4c6593",
   "metadata": {},
   "outputs": [
    {
     "name": "stdout",
     "output_type": "stream",
     "text": [
      "Factorial of 5 : 120\n"
     ]
    }
   ],
   "source": [
    "## Factorial of a Number:\n",
    "\n",
    "num = 5\n",
    "fact = 1\n",
    "for i in range(1, num+1):\n",
    "    fact *= i\n",
    "print(\"Factorial of\", num, \":\", fact)\n"
   ]
  },
  {
   "cell_type": "code",
   "execution_count": 31,
   "id": "fc4628d4",
   "metadata": {},
   "outputs": [
    {
     "name": "stdout",
     "output_type": "stream",
     "text": [
      "1, 2, 4, 8, 16, 32, 64, 128, 256, 512, 1024, 2048, 4096, 8192, 16384, 32768, 65536, 131072, 262144, 524288, "
     ]
    }
   ],
   "source": [
    "## Printing Fibonacci Series\n",
    "\n",
    "n1, n2 = 0, 1\n",
    "for i in range(20):\n",
    "    n1 = n2\n",
    "    n2 = n1+n2\n",
    "    print(n1, end=', ')"
   ]
  },
  {
   "cell_type": "code",
   "execution_count": 11,
   "id": "4f49d7ba",
   "metadata": {},
   "outputs": [
    {
     "name": "stdout",
     "output_type": "stream",
     "text": [
      "H e l l o   W o r l d   H o w   A r e   Y o u   A l l "
     ]
    }
   ],
   "source": [
    "## Print Characters of a string\n",
    "string = \"Hello World How Are You All\"\n",
    "for s in string:\n",
    "    print(s, end= \" \")"
   ]
  },
  {
   "cell_type": "code",
   "execution_count": 21,
   "id": "44bd6c68",
   "metadata": {},
   "outputs": [
    {
     "name": "stdout",
     "output_type": "stream",
     "text": [
      "99\n"
     ]
    }
   ],
   "source": [
    "## Find the largest number in a list using a for loop:\n",
    "\n",
    "my_list = [3,4,97,8,9,0,12,45,55,99,45,66]\n",
    "largest = my_list[0]\n",
    "for num in my_list:\n",
    "    if num > largest:\n",
    "        largest = num\n",
    "print(largest)"
   ]
  },
  {
   "cell_type": "code",
   "execution_count": 22,
   "id": "da7f65bb",
   "metadata": {},
   "outputs": [
    {
     "name": "stdout",
     "output_type": "stream",
     "text": [
      "Average of a list is : 36.916666666666664\n"
     ]
    }
   ],
   "source": [
    "## Find the average of numbers in a list using a for loop:\n",
    "\n",
    "my_list = [3,4,97,8,9,0,12,45,55,99,45,66]\n",
    "sum = 0\n",
    "for i in my_list:\n",
    "    sum += i\n",
    "    \n",
    "average = sum / len(my_list)\n",
    "print(\"Average of a list is :\" , average)"
   ]
  },
  {
   "cell_type": "code",
   "execution_count": 27,
   "id": "cd483227",
   "metadata": {},
   "outputs": [
    {
     "name": "stdout",
     "output_type": "stream",
     "text": [
      "3, 5, 6, 9, 10, 12, 15, 18, 20, "
     ]
    }
   ],
   "source": [
    "## Print numbers divisible by 3 or 5 from 1 to 20 using a for loop:\n",
    "\n",
    "for i in range (1, 21):\n",
    "    if i %3 == 0 or i % 5 == 0:\n",
    "        print(i, end = ', ')"
   ]
  },
  {
   "cell_type": "code",
   "execution_count": 41,
   "id": "aaf087c1",
   "metadata": {},
   "outputs": [
    {
     "name": "stdout",
     "output_type": "stream",
     "text": [
      "lufitaeB\n"
     ]
    }
   ],
   "source": [
    "## Reversing a String:\n",
    "string = \"Beatiful\"\n",
    "rev_str = \"\"\n",
    "for i in string:\n",
    "    rev_str = i + rev_str\n",
    "print(rev_str)   "
   ]
  },
  {
   "cell_type": "code",
   "execution_count": 42,
   "id": "badf2ea4",
   "metadata": {},
   "outputs": [
    {
     "name": "stdout",
     "output_type": "stream",
     "text": [
      "8 * 1 = 8\n",
      "8 * 2 = 16\n",
      "8 * 3 = 24\n",
      "8 * 4 = 32\n",
      "8 * 5 = 40\n",
      "8 * 6 = 48\n",
      "8 * 7 = 56\n",
      "8 * 8 = 64\n",
      "8 * 9 = 72\n",
      "8 * 10 = 80\n"
     ]
    }
   ],
   "source": [
    "## Printing Multiplication Table:\n",
    "\n",
    "num = 8\n",
    "for i in range(1, 11):\n",
    "    print(num ,\"*\",i,\"=\",num*i)"
   ]
  },
  {
   "cell_type": "code",
   "execution_count": 43,
   "id": "b9b3b5d6",
   "metadata": {},
   "outputs": [
    {
     "name": "stdout",
     "output_type": "stream",
     "text": [
      "Even Number: 2\n",
      "Even Number: 4\n",
      "Even Number: 6\n",
      "Even Number: 8\n",
      "Even Number: 10\n",
      "Even Number: 12\n",
      "Even Number: 14\n"
     ]
    }
   ],
   "source": [
    "## Printing Even Numbers between 1 and 20:\n",
    "for i in range(1,16):\n",
    "    if i%2 == 0:\n",
    "        print(\"Even Number:\" , i)"
   ]
  },
  {
   "cell_type": "code",
   "execution_count": 44,
   "id": "e2d86ed0",
   "metadata": {},
   "outputs": [
    {
     "name": "stdout",
     "output_type": "stream",
     "text": [
      "[3, 4, 5]\n"
     ]
    }
   ],
   "source": [
    "## Find the common elements in two lists using a for loop:\n",
    "list1 = [1, 2, 3, 4, 5]\n",
    "list2 = [3, 4, 5, 6, 7]\n",
    "common_list = []\n",
    "for i in list1:\n",
    "    if i in list2:\n",
    "        common_list.append(i)\n",
    "print(common_list)        "
   ]
  },
  {
   "cell_type": "code",
   "execution_count": 47,
   "id": "b9188322",
   "metadata": {},
   "outputs": [
    {
     "name": "stdout",
     "output_type": "stream",
     "text": [
      "1, 3, 5, 7, 9, 11, 13, 15, 17, 19, 21, 23, 25, 27, 29, "
     ]
    }
   ],
   "source": [
    "## Print numbers from 1 to 10. If a number is even, skip it\n",
    "\n",
    "for i in range(1,30):\n",
    "    if i % 2 == 0:\n",
    "        continue\n",
    "    print(i, end = ', ')"
   ]
  },
  {
   "cell_type": "code",
   "execution_count": 48,
   "id": "8f00c779",
   "metadata": {},
   "outputs": [
    {
     "name": "stdout",
     "output_type": "stream",
     "text": [
      "*\n",
      "**\n",
      "***\n",
      "****\n",
      "*****\n"
     ]
    }
   ],
   "source": [
    "## Print a pattern of stars using nested for loops:\n",
    "\n",
    "for i in range(5):\n",
    "    for j in range(i + 1):\n",
    "        print(\"*\", end=\"\")\n",
    "    print()"
   ]
  },
  {
   "cell_type": "code",
   "execution_count": 55,
   "id": "76119703",
   "metadata": {},
   "outputs": [
    {
     "name": "stdout",
     "output_type": "stream",
     "text": [
      "*****\n",
      "****\n",
      "***\n",
      "**\n",
      "*\n"
     ]
    }
   ],
   "source": [
    "## printing Star in reversed order\n",
    "\n",
    "for i in range(4, -1, -1):\n",
    "    for j in range(i+1):\n",
    "        print(\"*\", end=\"\")\n",
    "    print()"
   ]
  },
  {
   "cell_type": "code",
   "execution_count": 56,
   "id": "4d255dd8",
   "metadata": {},
   "outputs": [
    {
     "name": "stdout",
     "output_type": "stream",
     "text": [
      "palindrome\n"
     ]
    }
   ],
   "source": [
    "#Check Word  is palindrome or not\n",
    "Word = \"DAD\"\n",
    "res = ''\n",
    "for i in range(len(Word)-1,-1,-1):\n",
    "    res = res + Word[i]\n",
    "    \n",
    "if res==Word:\n",
    "    print(\"palindrome\")\n",
    "else:    print('Not Palindrom')"
   ]
  },
  {
   "cell_type": "code",
   "execution_count": 57,
   "id": "33f9ee20",
   "metadata": {},
   "outputs": [
    {
     "name": "stdout",
     "output_type": "stream",
     "text": [
      "nitiN"
     ]
    }
   ],
   "source": [
    "#How to reverse string\n",
    "Word = \"Nitin\"\n",
    "res = ''\n",
    "for i in range (len(Word)-1,-1,-1):\n",
    "    print(Word[i], end =\"\")"
   ]
  },
  {
   "cell_type": "code",
   "execution_count": 61,
   "id": "82643ecb",
   "metadata": {},
   "outputs": [
    {
     "ename": "TypeError",
     "evalue": "'str' object is not callable",
     "output_type": "error",
     "traceback": [
      "\u001b[1;31m---------------------------------------------------------------------------\u001b[0m",
      "\u001b[1;31mTypeError\u001b[0m                                 Traceback (most recent call last)",
      "\u001b[1;32m~\\AppData\\Local\\Temp\\ipykernel_41516\\1848701335.py\u001b[0m in \u001b[0;36m<module>\u001b[1;34m\u001b[0m\n\u001b[0;32m      2\u001b[0m \u001b[1;33m\u001b[0m\u001b[0m\n\u001b[0;32m      3\u001b[0m \u001b[0mnumber\u001b[0m \u001b[1;33m=\u001b[0m \u001b[1;36m153\u001b[0m\u001b[1;33m\u001b[0m\u001b[1;33m\u001b[0m\u001b[0m\n\u001b[1;32m----> 4\u001b[1;33m \u001b[0mnum_str\u001b[0m \u001b[1;33m=\u001b[0m \u001b[0mstr\u001b[0m\u001b[1;33m(\u001b[0m\u001b[0mnumber\u001b[0m\u001b[1;33m)\u001b[0m\u001b[1;33m\u001b[0m\u001b[1;33m\u001b[0m\u001b[0m\n\u001b[0m\u001b[0;32m      5\u001b[0m \u001b[0mnum_digits\u001b[0m \u001b[1;33m=\u001b[0m \u001b[0mlen\u001b[0m\u001b[1;33m(\u001b[0m\u001b[0mnum_str\u001b[0m\u001b[1;33m)\u001b[0m\u001b[1;33m\u001b[0m\u001b[1;33m\u001b[0m\u001b[0m\n\u001b[0;32m      6\u001b[0m \u001b[0marmstrong_sum\u001b[0m \u001b[1;33m=\u001b[0m \u001b[1;36m0\u001b[0m\u001b[1;33m\u001b[0m\u001b[1;33m\u001b[0m\u001b[0m\n",
      "\u001b[1;31mTypeError\u001b[0m: 'str' object is not callable"
     ]
    }
   ],
   "source": [
    "## Printing Armstrong\n",
    "\n",
    "number = 153\n",
    "num_str = str(number)\n",
    "num_digits = len(num_str)\n",
    "armstrong_sum = 0\n",
    "\n",
    "for digit in num_str:\n",
    "    armstrong_sum += int(digit) ** num_digits\n",
    "\n",
    "if armstrong_sum == number:\n",
    "    print(number, \"is an Armstrong number.\")\n",
    "else:\n",
    "    print(number, \"is not an Armstrong number.\")\n"
   ]
  }
 ],
 "metadata": {
  "kernelspec": {
   "display_name": "Python 3 (ipykernel)",
   "language": "python",
   "name": "python3"
  },
  "language_info": {
   "codemirror_mode": {
    "name": "ipython",
    "version": 3
   },
   "file_extension": ".py",
   "mimetype": "text/x-python",
   "name": "python",
   "nbconvert_exporter": "python",
   "pygments_lexer": "ipython3",
   "version": "3.9.13"
  }
 },
 "nbformat": 4,
 "nbformat_minor": 5
}
