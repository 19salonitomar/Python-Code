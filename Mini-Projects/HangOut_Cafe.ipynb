{
 "cells": [
  {
   "cell_type": "code",
   "execution_count": 42,
   "id": "dd99059a",
   "metadata": {},
   "outputs": [
    {
     "name": "stdout",
     "output_type": "stream",
     "text": [
      "--- WelCome! to HangOut Cafe! ---\n",
      "================================\n",
      "Item\t\tPrice\n",
      "======================\n",
      "Coffee\n",
      "Espresso\n",
      "Latte\n",
      "Cappuccino\n",
      "Mocha\n",
      "Tea\n",
      "Sandwich\n",
      "Burger\n",
      "Salad\n",
      "Pizza Slice\n",
      "Cake Slice\n",
      "Cookie\n",
      "Smoothie\n",
      "Milkshake\n",
      "Fresh Juice\n"
     ]
    },
    {
     "ename": "AttributeError",
     "evalue": "'float' object has no attribute 'items'",
     "output_type": "error",
     "traceback": [
      "\u001b[1;31m---------------------------------------------------------------------------\u001b[0m",
      "\u001b[1;31mAttributeError\u001b[0m                            Traceback (most recent call last)",
      "\u001b[1;32m~\\AppData\\Local\\Temp\\ipykernel_11448\\3985612211.py\u001b[0m in \u001b[0;36m<module>\u001b[1;34m\u001b[0m\n\u001b[0;32m     56\u001b[0m \u001b[1;33m\u001b[0m\u001b[0m\n\u001b[0;32m     57\u001b[0m \u001b[1;33m\u001b[0m\u001b[0m\n\u001b[1;32m---> 58\u001b[1;33m \u001b[0mDisplay_Menu\u001b[0m\u001b[1;33m(\u001b[0m\u001b[1;33m)\u001b[0m\u001b[1;33m\u001b[0m\u001b[1;33m\u001b[0m\u001b[0m\n\u001b[0m",
      "\u001b[1;32m~\\AppData\\Local\\Temp\\ipykernel_11448\\3985612211.py\u001b[0m in \u001b[0;36mDisplay_Menu\u001b[1;34m()\u001b[0m\n\u001b[0;32m     11\u001b[0m     \u001b[1;32mfor\u001b[0m \u001b[0mcategory\u001b[0m\u001b[1;33m,\u001b[0m \u001b[0mitems\u001b[0m \u001b[1;32min\u001b[0m \u001b[0mmenu\u001b[0m\u001b[1;33m.\u001b[0m\u001b[0mitems\u001b[0m\u001b[1;33m(\u001b[0m\u001b[1;33m)\u001b[0m\u001b[1;33m:\u001b[0m\u001b[1;33m\u001b[0m\u001b[1;33m\u001b[0m\u001b[0m\n\u001b[0;32m     12\u001b[0m         \u001b[0mprint\u001b[0m\u001b[1;33m(\u001b[0m\u001b[1;34mf\"{category}\"\u001b[0m\u001b[1;33m)\u001b[0m\u001b[1;33m\u001b[0m\u001b[1;33m\u001b[0m\u001b[0m\n\u001b[1;32m---> 13\u001b[1;33m     \u001b[1;32mfor\u001b[0m \u001b[0mitem\u001b[0m\u001b[1;33m,\u001b[0m \u001b[0mprice\u001b[0m \u001b[1;32min\u001b[0m \u001b[0mitems\u001b[0m\u001b[1;33m.\u001b[0m\u001b[0mitems\u001b[0m\u001b[1;33m(\u001b[0m\u001b[1;33m)\u001b[0m\u001b[1;33m:\u001b[0m\u001b[1;33m\u001b[0m\u001b[1;33m\u001b[0m\u001b[0m\n\u001b[0m\u001b[0;32m     14\u001b[0m         \u001b[1;32mif\u001b[0m \u001b[0misinstance\u001b[0m\u001b[1;33m(\u001b[0m\u001b[0mprice\u001b[0m\u001b[1;33m,\u001b[0m \u001b[0mdict\u001b[0m\u001b[1;33m)\u001b[0m\u001b[1;33m:\u001b[0m  \u001b[1;31m# If the value is a nested dictionary\u001b[0m\u001b[1;33m\u001b[0m\u001b[1;33m\u001b[0m\u001b[0m\n\u001b[0;32m     15\u001b[0m             \u001b[0mprint\u001b[0m\u001b[1;33m(\u001b[0m\u001b[0mitem\u001b[0m \u001b[1;33m+\u001b[0m \u001b[1;34m\":\"\u001b[0m\u001b[1;33m)\u001b[0m\u001b[1;33m\u001b[0m\u001b[1;33m\u001b[0m\u001b[0m\n",
      "\u001b[1;31mAttributeError\u001b[0m: 'float' object has no attribute 'items'"
     ]
    }
   ],
   "source": [
    "## A: Menu Card Creation:\n",
    "\n",
    "import datetime\n",
    "\n",
    "def Display_Menu():\n",
    "    print(\"--- WelCome! to HangOut Cafe! ---\")\n",
    "    print(\"================================\")\n",
    "    print(\"Item\\t\\tPrice\")\n",
    "    print(\"======================\")\n",
    "    \n",
    "    for category, items in menu.items():\n",
    "        print(f\"{category}\")\n",
    "    for item, price in items.items():\n",
    "        if isinstance(price, dict):  # If the value is a nested dictionary\n",
    "            print(item + \":\")\n",
    "            for subtype, subprice in price.items():\n",
    "                print(f\"    {subtype}: ${subprice:.2f}\")\n",
    "        else:\n",
    "            print(f\"{item}: ${price:.2f}\")\n",
    "            \n",
    "            \n",
    "    Menu = {\n",
    "        \"Beverages\": {                    #Category  \n",
    "            \"Coffee\": 45,                 #item : Price\n",
    "            \"Espresso\": 150, \n",
    "            \"Latte\": 100, \n",
    "            \"Cappuccino\": 250,\n",
    "            \"Tea\": 20,\n",
    "            \"Black Tea\": 30, \n",
    "            \"Green Tea\": 25,\n",
    "            \"Herbal Tea\": 45,\n",
    "            \"Soft Drinks\": {\n",
    "                \"Coke\": 60, \n",
    "                \"Sprite\": 50, \n",
    "                \"Fanta\": 40\n",
    "            }\n",
    "        },\n",
    "        \"Snacks\": {\n",
    "            \"Pastries\": 70,\n",
    "            \"Croissant\": 90, \n",
    "            \"Muffin\": 100,\n",
    "            \"Choclate\": 200\n",
    "        },\n",
    "        \"Sandwiches\": {\n",
    "            \"Grilled Cheese\": 3.0, \n",
    "            \"Chicken Salad\": 3.5, \n",
    "            \"Tuna Melt\": 4.0\n",
    "        },\n",
    "        \"Salads\": {\n",
    "            \"Caesar\": 4.0, \n",
    "            \"Greek\": 4.5, \n",
    "            \"Garden\": 5.0\n",
    "        }\n",
    "    }\n",
    "\n",
    "\n",
    "\n",
    "Display_Menu()"
   ]
  },
  {
   "cell_type": "code",
   "execution_count": 19,
   "id": "6b4abea6",
   "metadata": {},
   "outputs": [
    {
     "name": "stdout",
     "output_type": "stream",
     "text": [
      "Hangout Cafe Menu\n",
      "======================\n",
      "Item\t\tPrice\n",
      "======================\n",
      "Coffee\t\t$2.50\n",
      "Espresso\t\t$3.00\n",
      "Latte\t\t$3.50\n",
      "Cappuccino\t\t$3.50\n",
      "Mocha\t\t$4.00\n",
      "Tea\t\t$2.00\n",
      "Sandwich\t\t$5.50\n",
      "Burger\t\t$6.00\n",
      "Salad\t\t$4.50\n",
      "Pizza Slice\t\t$3.50\n",
      "Cake Slice\t\t$4.00\n",
      "Cookie\t\t$1.50\n",
      "Smoothie\t\t$4.50\n",
      "Milkshake\t\t$4.00\n",
      "Fresh Juice\t\t$3.00\n",
      "======================\n"
     ]
    }
   ],
   "source": [
    "'''def display_menu(menu):\n",
    "    print(\"Hangout Cafe Menu\")\n",
    "    print(\"======================\")\n",
    "    print(\"Item\\t\\tPrice\")\n",
    "    print(\"======================\")\n",
    "    for item, price in menu.items():\n",
    "        print(f\"{item}\\t\\t${price:.2f}\")\n",
    "    print(\"======================\")\n",
    "\n",
    "# Menu for Hangout Cafe\n",
    "menu = {\n",
    "    \"Coffee\": 2.50,\n",
    "    \"Espresso\": 3.00,\n",
    "    \"Latte\": 3.50,\n",
    "    \"Cappuccino\": 3.50,\n",
    "    \"Mocha\": 4.00,\n",
    "    \"Tea\": 2.00,\n",
    "    \"Sandwich\": 5.50,\n",
    "    \"Burger\": 6.00,\n",
    "    \"Salad\": 4.50,\n",
    "    \"Pizza Slice\": 3.50,\n",
    "    \"Cake Slice\": 4.00,\n",
    "    \"Cookie\": 1.50,\n",
    "    \"Smoothie\": 4.50,\n",
    "    \"Milkshake\": 4.00,\n",
    "    \"Fresh Juice\": 3.00\n",
    "}\n",
    "\n",
    "# Display the menu\n",
    "display_menu(menu)\n",
    "'''"
   ]
  },
  {
   "cell_type": "code",
   "execution_count": null,
   "id": "f08240d0",
   "metadata": {},
   "outputs": [],
   "source": [
    "## B: Take Orders to the Customers\n",
    "\n",
    "def take_orders():"
   ]
  }
 ],
 "metadata": {
  "kernelspec": {
   "display_name": "Python 3 (ipykernel)",
   "language": "python",
   "name": "python3"
  },
  "language_info": {
   "codemirror_mode": {
    "name": "ipython",
    "version": 3
   },
   "file_extension": ".py",
   "mimetype": "text/x-python",
   "name": "python",
   "nbconvert_exporter": "python",
   "pygments_lexer": "ipython3",
   "version": "3.9.13"
  }
 },
 "nbformat": 4,
 "nbformat_minor": 5
}
