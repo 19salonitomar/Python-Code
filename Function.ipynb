{
 "cells": [
  {
   "cell_type": "markdown",
   "id": "e73ef58b",
   "metadata": {},
   "source": [
    "## FUNCTION:\n",
    "\n",
    "A function is a block of code which only runs when it is called.\n",
    "You can pass data, known as parameters, into a function.\n",
    "A function can return data as a result."
   ]
  },
  {
   "cell_type": "code",
   "execution_count": 5,
   "id": "a85be772",
   "metadata": {},
   "outputs": [
    {
     "name": "stdout",
     "output_type": "stream",
     "text": [
      "Factorial of 5 is 120\n"
     ]
    },
    {
     "data": {
      "text/plain": [
       "5040"
      ]
     },
     "execution_count": 5,
     "metadata": {},
     "output_type": "execute_result"
    }
   ],
   "source": [
    "## Function to calculate the factorial of a number:\n",
    "\n",
    "def factorial(n):\n",
    "    if n == 0:\n",
    "        return 1\n",
    "    else:\n",
    "        return n * factorial(n - 1)\n",
    "\n",
    "num = 5\n",
    "print(\"Factorial of\", num, \"is\", factorial(num))\n",
    "factorial(7)"
   ]
  },
  {
   "cell_type": "code",
   "execution_count": 1,
   "id": "2791c948",
   "metadata": {},
   "outputs": [
    {
     "name": "stdout",
     "output_type": "stream",
     "text": [
      "SecondLargest No. is : 9\n"
     ]
    }
   ],
   "source": [
    "## find the second largest number in a list.\n",
    "\n",
    "def SecondLargest(lst):\n",
    "    for i in lst:\n",
    "        lst.sort(reverse=True)\n",
    "    return lst[1]\n",
    "print(\"SecondLargest No. is :\" , SecondLargest([2, 4, 8, 9, 5, 10]))"
   ]
  },
  {
   "cell_type": "code",
   "execution_count": 14,
   "id": "d5d3d4c1",
   "metadata": {},
   "outputs": [
    {
     "name": "stdout",
     "output_type": "stream",
     "text": [
      "Second Largest Number: 86\n"
     ]
    }
   ],
   "source": [
    "## 2. find the second largest number in a list.\n",
    "\n",
    "def SecondLargest(lst):\n",
    "    if len(lst)<2:\n",
    "        return \"List must contain at least two numbers\"\n",
    "    \n",
    "    numbers = sorted(lst)\n",
    "    return numbers[-2]\n",
    "\n",
    "my_lst = ([20, 47, 86, 98, 54, 10, 14, 33])\n",
    "print(\"Second Largest Number:\" , SecondLargest(my_lst))"
   ]
  },
  {
   "cell_type": "code",
   "execution_count": 20,
   "id": "8352040a",
   "metadata": {},
   "outputs": [
    {
     "data": {
      "text/plain": [
       "[1, 2, 3, 4, 5, 6, 7, 8, 9]"
      ]
     },
     "execution_count": 20,
     "metadata": {},
     "output_type": "execute_result"
    }
   ],
   "source": [
    "## Function to remove duplicate elements from list\n",
    "\n",
    "def removeDup(lst):\n",
    "    counter = {}\n",
    "    for i in lst:\n",
    "        if i in counter:\n",
    "            counter[i]+=1\n",
    "        else:\n",
    "            counter[i]=1\n",
    "        if counter[i]>1:\n",
    "            lst.remove(i)\n",
    "    return lst\n",
    "\n",
    "lst=[1,1,2,3,4,4,5,6,7,8,9]\n",
    "removeDup(lst)"
   ]
  },
  {
   "cell_type": "code",
   "execution_count": 28,
   "id": "70b44ba1",
   "metadata": {},
   "outputs": [
    {
     "name": "stdout",
     "output_type": "stream",
     "text": [
      "prime Number:\n"
     ]
    },
    {
     "data": {
      "text/plain": [
       "'Not Prime Number'"
      ]
     },
     "execution_count": 28,
     "metadata": {},
     "output_type": "execute_result"
    }
   ],
   "source": [
    "## function to check if a given number is prime\n",
    "\n",
    "def is_prime(n):\n",
    "    if n <= 1:\n",
    "        return \"Negative Number , Please Enter a number\"\n",
    "    for i in range(2 , n):\n",
    "        if n % i == 0:\n",
    "            return \"Not Prime Number\"\n",
    "    return \"prime Number:\"\n",
    "\n",
    "num = 89\n",
    "print(is_prime(num))\n",
    "\n",
    "is_prime(76)"
   ]
  },
  {
   "cell_type": "code",
   "execution_count": 31,
   "id": "11502f85",
   "metadata": {},
   "outputs": [
    {
     "data": {
      "text/plain": [
       "32"
      ]
     },
     "execution_count": 31,
     "metadata": {},
     "output_type": "execute_result"
    }
   ],
   "source": [
    "## Calculate Power of a Number:\n",
    "\n",
    "def Power(base, exponent):\n",
    "    return base ** exponent\n",
    "\n",
    "Power(2, 5)"
   ]
  },
  {
   "cell_type": "code",
   "execution_count": 42,
   "id": "586f48f9",
   "metadata": {},
   "outputs": [
    {
     "name": "stdout",
     "output_type": "stream",
     "text": [
      "Occurrences of 'l' in 'hello world ': 3\n"
     ]
    }
   ],
   "source": [
    "## Count the Occurrences of a Character in a String:\n",
    "\n",
    "def count_char(string, char):\n",
    "    counter = 0\n",
    "    for c in string:\n",
    "        if c in char:\n",
    "            counter += 1            \n",
    "    return counter \n",
    "    \n",
    "input = \"hello world \"\n",
    "character_to_count = \"l\"\n",
    "print(f\"Occurrences of '{character_to_count}' in '{input}': {count_char(input, character_to_count)}\")\n"
   ]
  },
  {
   "cell_type": "code",
   "execution_count": 44,
   "id": "32ee8545",
   "metadata": {},
   "outputs": [
    {
     "name": "stdout",
     "output_type": "stream",
     "text": [
      "Fibonacci series up to 10  is  [0, 1, 1, 2, 3, 5, 8, 13, 21, 34]\n"
     ]
    }
   ],
   "source": [
    "## Calculate Fibonacci Series:\n",
    "\n",
    "def Fibonacci(n):\n",
    "    var = [0 , 1]\n",
    "    for i in range(2 , n):\n",
    "        var.append(var[i-1]+ var[i-2])\n",
    "    return var\n",
    "term = 10\n",
    "print(\"Fibonacci series up to\" , term ,\" is \" , Fibonacci(term))"
   ]
  },
  {
   "cell_type": "code",
   "execution_count": 45,
   "id": "ab4c3aeb",
   "metadata": {},
   "outputs": [
    {
     "name": "stdout",
     "output_type": "stream",
     "text": [
      "daD dnA moM\n"
     ]
    }
   ],
   "source": [
    "## Reverse a String:\n",
    "\n",
    "def reverse(string):\n",
    "    return string[:: -1]\n",
    "\n",
    "str = \"Mom And Dad\"\n",
    "print(reverse(str))"
   ]
  },
  {
   "cell_type": "code",
   "execution_count": 68,
   "id": "a3cc7311",
   "metadata": {},
   "outputs": [
    {
     "name": "stdout",
     "output_type": "stream",
     "text": [
      "Word is Palindrome: True\n"
     ]
    }
   ],
   "source": [
    "## Check if a String is Palindrome\n",
    "\n",
    "def is_palindrome(string):\n",
    "    string = string.lower()\n",
    "    return string == string[::-1]\n",
    "\n",
    "Word = \"Dad\"\n",
    "print(\"Word is Palindrome:\" , is_palindrome(Word))"
   ]
  },
  {
   "cell_type": "code",
   "execution_count": 70,
   "id": "7be6f09a",
   "metadata": {},
   "outputs": [
    {
     "name": "stdout",
     "output_type": "stream",
     "text": [
      "sum of term up to: 20 is 190\n"
     ]
    }
   ],
   "source": [
    "## Calculate the Sum of Digits of a Number:\n",
    "def Sum_of_Num(n):\n",
    "    count = 0\n",
    "    for i in range(0, n):\n",
    "        count += i       \n",
    "    return count\n",
    "\n",
    "term = 20\n",
    "print(\"sum of term up to:\" ,term, \"is\", Sum_of_Num(term))"
   ]
  },
  {
   "cell_type": "code",
   "execution_count": 69,
   "id": "38a339f6",
   "metadata": {},
   "outputs": [
    {
     "name": "stdout",
     "output_type": "stream",
     "text": [
      "Maximum number: 25\n"
     ]
    }
   ],
   "source": [
    "## Find the Maximum Number in a List:\n",
    "\n",
    "def Find_Max(numbers):\n",
    "    if not numbers:\n",
    "        return False\n",
    "    max = numbers[0]\n",
    "    for i in numbers:\n",
    "        if i > max:\n",
    "            max = i\n",
    "    return max\n",
    "\n",
    "number = [10, 5, 20, 15, 25]\n",
    "print(\"Maximum number:\", Find_Max(number))"
   ]
  },
  {
   "cell_type": "code",
   "execution_count": 71,
   "id": "a3aaa625",
   "metadata": {},
   "outputs": [
    {
     "name": "stdout",
     "output_type": "stream",
     "text": [
      "Given year 2012 a leap year? True\n"
     ]
    }
   ],
   "source": [
    "## Check if a Year is a Leap Year:\n",
    "\n",
    "def Is_Leap_Year(year):\n",
    "    Leap_yr = (year % 4 == 0 and year % 100 != 0) or (year % 400 == 0)\n",
    "    return Leap_yr\n",
    "\n",
    "Year = 2012\n",
    "print(\"Given year\", Year, \"a leap year?\", Is_Leap_Year(Year))"
   ]
  },
  {
   "cell_type": "code",
   "execution_count": 72,
   "id": "049054a2",
   "metadata": {},
   "outputs": [
    {
     "name": "stdout",
     "output_type": "stream",
     "text": [
      "Mean of numbers: 30.0\n"
     ]
    }
   ],
   "source": [
    "## Calculate the Mean (Average) of a List of Numbers:\n",
    "\n",
    "def Average(numbers):\n",
    "    return sum(numbers) / len(numbers)\n",
    "\n",
    "numbers = [10, 20, 30, 40, 50]\n",
    "print(\"Mean of numbers:\", Average(numbers))    "
   ]
  },
  {
   "cell_type": "code",
   "execution_count": 73,
   "id": "161fb424",
   "metadata": {},
   "outputs": [
    {
     "data": {
      "text/plain": [
       "[1, 3, 5, 7]"
      ]
     },
     "execution_count": 73,
     "metadata": {},
     "output_type": "execute_result"
    }
   ],
   "source": [
    "## find the common elements between two lists\n",
    "\n",
    "def common(lst1 , lst2):\n",
    "    result = []\n",
    "    for i in lst1:\n",
    "        if i in lst2:\n",
    "            result.append(i)\n",
    "    return result\n",
    "\n",
    "lst1=[1,2,3,4,5,6,7,8]\n",
    "lst2=[1,3,5,7,9,11,12,23]\n",
    "common(lst1,lst2)"
   ]
  },
  {
   "cell_type": "code",
   "execution_count": 74,
   "id": "768e8d44",
   "metadata": {},
   "outputs": [
    {
     "data": {
      "text/plain": [
       "'Bll n Rd nd Blck Clr'"
      ]
     },
     "execution_count": 74,
     "metadata": {},
     "output_type": "execute_result"
    }
   ],
   "source": [
    "## program to remove all vowels from a given string\n",
    "\n",
    "def RemoveVowels(s):\n",
    "    result=''\n",
    "    vowels=['a','e','i','o','u','A','E','I','O','U']\n",
    "    for i in s:\n",
    "        if i in vowels:\n",
    "             continue\n",
    "        else:\n",
    "             result+=i\n",
    "    return result\n",
    "\n",
    "RemoveVowels('Ball in Red and Black Color')\n",
    "    "
   ]
  },
  {
   "cell_type": "markdown",
   "id": "5377b1c8",
   "metadata": {},
   "source": [
    "### Default Function\n",
    "\n",
    "A default function typically refers to a function that is provided with default arguments, meaning that the function can be called with fewer arguments than it is defined with, as the default values will be used for any missing arguments.\n",
    "\n",
    "Default values indicate that the function argument will take that value if no argument value is passed during the function call. The default value is assigned by using the assignment(=) operator of the form keywordname=value."
   ]
  },
  {
   "cell_type": "code",
   "execution_count": 76,
   "id": "18ae102e",
   "metadata": {},
   "outputs": [
    {
     "name": "stdout",
     "output_type": "stream",
     "text": [
      "John Mark studies in Fifth Standard\n",
      "John Gates studies in Seventh Standard\n",
      "John koy studies in Fifth Standard\n",
      "John Seventh studies in Fifth Standard\n"
     ]
    }
   ],
   "source": [
    "def student(firstname, lastname ='Mark', standard ='Fifth'):\n",
    "     print(firstname, lastname, 'studies in', standard, 'Standard')\n",
    "\n",
    "        \n",
    "student('John')                         \n",
    "student('John', 'Gates', 'Seventh')     \n",
    "student('John', 'koy')                  \n",
    "student('John', 'Seventh')"
   ]
  },
  {
   "cell_type": "code",
   "execution_count": 77,
   "id": "53b4e063",
   "metadata": {},
   "outputs": [
    {
     "name": "stdout",
     "output_type": "stream",
     "text": [
      "I am from Norway\n",
      "I am from China\n",
      "I am from India\n",
      "I am from Brazil\n"
     ]
    }
   ],
   "source": [
    "def my_function(country = \"India\"):\n",
    "    print(\"I am from \" + country)\n",
    "\n",
    "my_function(\"Norway\")\n",
    "my_function(\"China\")\n",
    "my_function()\n",
    "my_function(\"Brazil\")\n"
   ]
  },
  {
   "cell_type": "code",
   "execution_count": null,
   "id": "66091eb5",
   "metadata": {},
   "outputs": [],
   "source": [
    "## Generating Reports\n",
    "\n",
    "def generate_report(report_type='monthly', date_range='last_month', output_format='pdf'):\n",
    "    # Code to generate report\n",
    "    pass\n"
   ]
  },
  {
   "cell_type": "code",
   "execution_count": 4,
   "id": "0a320112",
   "metadata": {},
   "outputs": [
    {
     "name": "stdout",
     "output_type": "stream",
     "text": [
      "Enter a first number56\n",
      "Enter a second number87.9\n",
      "Addition of a 56.0 87.9 is: 143.9\n",
      "subtraction of a 56.0 87.9 is: -31.900000000000006\n",
      "Multiplication of a 56.0 87.9 is: 4922.400000000001\n",
      "Division of a 56.0 87.9 is: 0.6370875995449374\n"
     ]
    }
   ],
   "source": [
    "def add(a,b):\n",
    "    return a+b\n",
    "def sub(c,d):\n",
    "    return c-d\n",
    "def mul(e,f):\n",
    "    return e*f\n",
    "def div(g,h):\n",
    "    if h == 0:\n",
    "        return 'Error! Divisible by Zero!!'\n",
    "    else:\n",
    "        return g/h\n",
    "    \n",
    "num1=float(input(\"Enter a first number\"))\n",
    "num2=float(input(\"Enter a second number\"))\n",
    "\n",
    "add(num1,num2)\n",
    "print(\"Addition of a\",num1 , num2,\"is:\",add(num1, num2))\n",
    "\n",
    "sub(num1,num2)\n",
    "print(\"subtraction of a\",num1 , num2,\"is:\",sub(num1, num2))\n",
    "\n",
    "mul(num1,num2)\n",
    "print(\"Multiplication of a\",num1 , num2,\"is:\",mul(num1, num2))\n",
    "\n",
    "div(num1,num2)\n",
    "print(\"Division of a\",num1 , num2,\"is:\",div(num1, num2))"
   ]
  }
 ],
 "metadata": {
  "kernelspec": {
   "display_name": "Python 3 (ipykernel)",
   "language": "python",
   "name": "python3"
  },
  "language_info": {
   "codemirror_mode": {
    "name": "ipython",
    "version": 3
   },
   "file_extension": ".py",
   "mimetype": "text/x-python",
   "name": "python",
   "nbconvert_exporter": "python",
   "pygments_lexer": "ipython3",
   "version": "3.9.13"
  }
 },
 "nbformat": 4,
 "nbformat_minor": 5
}
